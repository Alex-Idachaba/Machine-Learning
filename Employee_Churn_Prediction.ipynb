{
 "cells": [
  {
   "cell_type": "markdown",
   "metadata": {},
   "source": [
    "<h1 style='color:red' align='center'>Employee Churn Prediction</h1>"
   ]
  },
  {
   "cell_type": "markdown",
   "metadata": {},
   "source": [
    "<h1 style='color:blue' align='left'>Look at the Big Picture</h1>"
   ]
  },
  {
   "cell_type": "markdown",
   "metadata": {},
   "source": [
    "What we want to achieve with this project is to use machine learning to predict the rate at which employees are leaving a particular company."
   ]
  },
  {
   "cell_type": "markdown",
   "metadata": {},
   "source": [
    "<h2 style='color:black' align='left'>Frame the Problem</h2>"
   ]
  },
  {
   "cell_type": "markdown",
   "metadata": {},
   "source": [
    "Employee turnover has become a major issue. So this project will be used to better understand why employees are leaving the company. The task is a supervised learning task of binary classification."
   ]
  },
  {
   "cell_type": "markdown",
   "metadata": {},
   "source": [
    "<h2 style='color:black' align='left'>Performance Measure</h2>"
   ]
  },
  {
   "cell_type": "markdown",
   "metadata": {},
   "source": [
    "We will be evaluating the performance of our classifier using Accuracy, Cross Validation and Precision/Recall."
   ]
  },
  {
   "cell_type": "markdown",
   "metadata": {},
   "source": [
    "<h2 style='color:black' align='left'>Assumptions</h2>"
   ]
  },
  {
   "cell_type": "markdown",
   "metadata": {},
   "source": [
    "No assumption was made as to how the end result will be utilized."
   ]
  },
  {
   "cell_type": "markdown",
   "metadata": {},
   "source": [
    "<h1 style='color:blue' align='left'>Get the Data</h1>"
   ]
  },
  {
   "cell_type": "markdown",
   "metadata": {},
   "source": [
    "<h2 style='color:black' align='left'>Load Data</h2>"
   ]
  },
  {
   "cell_type": "code",
   "execution_count": 1,
   "metadata": {},
   "outputs": [],
   "source": [
    "import numpy as np\n",
    "import matplotlib.pyplot as plt\n",
    "import pandas as pd\n",
    "import os\n",
    "%matplotlib inline"
   ]
  },
  {
   "cell_type": "code",
   "execution_count": 2,
   "metadata": {},
   "outputs": [],
   "source": [
    "FILE_PATH = os.getcwd()\n",
    "FILE = 'HR_comma_sep.csv'\n",
    "def load_data(file_path, file):\n",
    "    dir_file = os.path.join(file_path,file)\n",
    "    churn = pd.read_csv(dir_file)\n",
    "    return churn\n",
    "churn = load_data(FILE_PATH, FILE)"
   ]
  },
  {
   "cell_type": "markdown",
   "metadata": {},
   "source": [
    "<h2 style='color:black' align='left'>Take a Quick Look at the Data Structure</h2>"
   ]
  },
  {
   "cell_type": "code",
   "execution_count": 3,
   "metadata": {},
   "outputs": [
    {
     "data": {
      "text/html": [
       "<div>\n",
       "<style scoped>\n",
       "    .dataframe tbody tr th:only-of-type {\n",
       "        vertical-align: middle;\n",
       "    }\n",
       "\n",
       "    .dataframe tbody tr th {\n",
       "        vertical-align: top;\n",
       "    }\n",
       "\n",
       "    .dataframe thead th {\n",
       "        text-align: right;\n",
       "    }\n",
       "</style>\n",
       "<table border=\"1\" class=\"dataframe\">\n",
       "  <thead>\n",
       "    <tr style=\"text-align: right;\">\n",
       "      <th></th>\n",
       "      <th>satisfaction_level</th>\n",
       "      <th>last_evaluation</th>\n",
       "      <th>number_project</th>\n",
       "      <th>average_montly_hours</th>\n",
       "      <th>time_spend_company</th>\n",
       "      <th>Work_accident</th>\n",
       "      <th>left</th>\n",
       "      <th>promotion_last_5years</th>\n",
       "      <th>Department</th>\n",
       "      <th>salary</th>\n",
       "    </tr>\n",
       "  </thead>\n",
       "  <tbody>\n",
       "    <tr>\n",
       "      <td>0</td>\n",
       "      <td>0.38</td>\n",
       "      <td>0.53</td>\n",
       "      <td>2</td>\n",
       "      <td>157</td>\n",
       "      <td>3</td>\n",
       "      <td>0</td>\n",
       "      <td>1</td>\n",
       "      <td>0</td>\n",
       "      <td>sales</td>\n",
       "      <td>low</td>\n",
       "    </tr>\n",
       "    <tr>\n",
       "      <td>1</td>\n",
       "      <td>0.80</td>\n",
       "      <td>0.86</td>\n",
       "      <td>5</td>\n",
       "      <td>262</td>\n",
       "      <td>6</td>\n",
       "      <td>0</td>\n",
       "      <td>1</td>\n",
       "      <td>0</td>\n",
       "      <td>sales</td>\n",
       "      <td>medium</td>\n",
       "    </tr>\n",
       "    <tr>\n",
       "      <td>2</td>\n",
       "      <td>0.11</td>\n",
       "      <td>0.88</td>\n",
       "      <td>7</td>\n",
       "      <td>272</td>\n",
       "      <td>4</td>\n",
       "      <td>0</td>\n",
       "      <td>1</td>\n",
       "      <td>0</td>\n",
       "      <td>sales</td>\n",
       "      <td>medium</td>\n",
       "    </tr>\n",
       "    <tr>\n",
       "      <td>3</td>\n",
       "      <td>0.72</td>\n",
       "      <td>0.87</td>\n",
       "      <td>5</td>\n",
       "      <td>223</td>\n",
       "      <td>5</td>\n",
       "      <td>0</td>\n",
       "      <td>1</td>\n",
       "      <td>0</td>\n",
       "      <td>sales</td>\n",
       "      <td>low</td>\n",
       "    </tr>\n",
       "    <tr>\n",
       "      <td>4</td>\n",
       "      <td>0.37</td>\n",
       "      <td>0.52</td>\n",
       "      <td>2</td>\n",
       "      <td>159</td>\n",
       "      <td>3</td>\n",
       "      <td>0</td>\n",
       "      <td>1</td>\n",
       "      <td>0</td>\n",
       "      <td>sales</td>\n",
       "      <td>low</td>\n",
       "    </tr>\n",
       "  </tbody>\n",
       "</table>\n",
       "</div>"
      ],
      "text/plain": [
       "   satisfaction_level  last_evaluation  number_project  average_montly_hours  \\\n",
       "0                0.38             0.53               2                   157   \n",
       "1                0.80             0.86               5                   262   \n",
       "2                0.11             0.88               7                   272   \n",
       "3                0.72             0.87               5                   223   \n",
       "4                0.37             0.52               2                   159   \n",
       "\n",
       "   time_spend_company  Work_accident  left  promotion_last_5years Department  \\\n",
       "0                   3              0     1                      0      sales   \n",
       "1                   6              0     1                      0      sales   \n",
       "2                   4              0     1                      0      sales   \n",
       "3                   5              0     1                      0      sales   \n",
       "4                   3              0     1                      0      sales   \n",
       "\n",
       "   salary  \n",
       "0     low  \n",
       "1  medium  \n",
       "2  medium  \n",
       "3     low  \n",
       "4     low  "
      ]
     },
     "execution_count": 3,
     "metadata": {},
     "output_type": "execute_result"
    }
   ],
   "source": [
    "churn.head()"
   ]
  },
  {
   "cell_type": "code",
   "execution_count": 4,
   "metadata": {},
   "outputs": [
    {
     "name": "stdout",
     "output_type": "stream",
     "text": [
      "<class 'pandas.core.frame.DataFrame'>\n",
      "RangeIndex: 14999 entries, 0 to 14998\n",
      "Data columns (total 10 columns):\n",
      "satisfaction_level       14999 non-null float64\n",
      "last_evaluation          14999 non-null float64\n",
      "number_project           14999 non-null int64\n",
      "average_montly_hours     14999 non-null int64\n",
      "time_spend_company       14999 non-null int64\n",
      "Work_accident            14999 non-null int64\n",
      "left                     14999 non-null int64\n",
      "promotion_last_5years    14999 non-null int64\n",
      "Department               14999 non-null object\n",
      "salary                   14999 non-null object\n",
      "dtypes: float64(2), int64(6), object(2)\n",
      "memory usage: 1.1+ MB\n"
     ]
    }
   ],
   "source": [
    "# A look at data description\n",
    "churn.info()"
   ]
  },
  {
   "cell_type": "code",
   "execution_count": 5,
   "metadata": {},
   "outputs": [],
   "source": [
    "#convert target variable to string\n",
    "churn['left'] = churn['left'].astype(str)"
   ]
  },
  {
   "cell_type": "code",
   "execution_count": 6,
   "metadata": {},
   "outputs": [
    {
     "data": {
      "text/plain": [
       "0        1\n",
       "1        1\n",
       "2        1\n",
       "3        1\n",
       "4        1\n",
       "        ..\n",
       "14994    1\n",
       "14995    1\n",
       "14996    1\n",
       "14997    1\n",
       "14998    1\n",
       "Name: left, Length: 14999, dtype: object"
      ]
     },
     "execution_count": 6,
     "metadata": {},
     "output_type": "execute_result"
    }
   ],
   "source": [
    "churn['left']"
   ]
  },
  {
   "cell_type": "code",
   "execution_count": 7,
   "metadata": {},
   "outputs": [
    {
     "data": {
      "text/plain": [
       "sales          4140\n",
       "technical      2720\n",
       "support        2229\n",
       "IT             1227\n",
       "product_mng     902\n",
       "marketing       858\n",
       "RandD           787\n",
       "accounting      767\n",
       "hr              739\n",
       "management      630\n",
       "Name: Department, dtype: int64"
      ]
     },
     "execution_count": 7,
     "metadata": {},
     "output_type": "execute_result"
    }
   ],
   "source": [
    "# Unique categories in the 'Department' column\n",
    "churn['Department'].value_counts()"
   ]
  },
  {
   "cell_type": "code",
   "execution_count": 8,
   "metadata": {},
   "outputs": [
    {
     "data": {
      "text/plain": [
       "low       7316\n",
       "medium    6446\n",
       "high      1237\n",
       "Name: salary, dtype: int64"
      ]
     },
     "execution_count": 8,
     "metadata": {},
     "output_type": "execute_result"
    }
   ],
   "source": [
    "# Also look at unique categories in 'salary' column\n",
    "churn['salary'].value_counts()"
   ]
  },
  {
   "cell_type": "code",
   "execution_count": 9,
   "metadata": {},
   "outputs": [
    {
     "data": {
      "text/html": [
       "<div>\n",
       "<style scoped>\n",
       "    .dataframe tbody tr th:only-of-type {\n",
       "        vertical-align: middle;\n",
       "    }\n",
       "\n",
       "    .dataframe tbody tr th {\n",
       "        vertical-align: top;\n",
       "    }\n",
       "\n",
       "    .dataframe thead th {\n",
       "        text-align: right;\n",
       "    }\n",
       "</style>\n",
       "<table border=\"1\" class=\"dataframe\">\n",
       "  <thead>\n",
       "    <tr style=\"text-align: right;\">\n",
       "      <th></th>\n",
       "      <th>satisfaction_level</th>\n",
       "      <th>last_evaluation</th>\n",
       "      <th>number_project</th>\n",
       "      <th>average_montly_hours</th>\n",
       "      <th>time_spend_company</th>\n",
       "      <th>Work_accident</th>\n",
       "      <th>promotion_last_5years</th>\n",
       "    </tr>\n",
       "  </thead>\n",
       "  <tbody>\n",
       "    <tr>\n",
       "      <td>count</td>\n",
       "      <td>14999.000000</td>\n",
       "      <td>14999.000000</td>\n",
       "      <td>14999.000000</td>\n",
       "      <td>14999.000000</td>\n",
       "      <td>14999.000000</td>\n",
       "      <td>14999.000000</td>\n",
       "      <td>14999.000000</td>\n",
       "    </tr>\n",
       "    <tr>\n",
       "      <td>mean</td>\n",
       "      <td>0.612834</td>\n",
       "      <td>0.716102</td>\n",
       "      <td>3.803054</td>\n",
       "      <td>201.050337</td>\n",
       "      <td>3.498233</td>\n",
       "      <td>0.144610</td>\n",
       "      <td>0.021268</td>\n",
       "    </tr>\n",
       "    <tr>\n",
       "      <td>std</td>\n",
       "      <td>0.248631</td>\n",
       "      <td>0.171169</td>\n",
       "      <td>1.232592</td>\n",
       "      <td>49.943099</td>\n",
       "      <td>1.460136</td>\n",
       "      <td>0.351719</td>\n",
       "      <td>0.144281</td>\n",
       "    </tr>\n",
       "    <tr>\n",
       "      <td>min</td>\n",
       "      <td>0.090000</td>\n",
       "      <td>0.360000</td>\n",
       "      <td>2.000000</td>\n",
       "      <td>96.000000</td>\n",
       "      <td>2.000000</td>\n",
       "      <td>0.000000</td>\n",
       "      <td>0.000000</td>\n",
       "    </tr>\n",
       "    <tr>\n",
       "      <td>25%</td>\n",
       "      <td>0.440000</td>\n",
       "      <td>0.560000</td>\n",
       "      <td>3.000000</td>\n",
       "      <td>156.000000</td>\n",
       "      <td>3.000000</td>\n",
       "      <td>0.000000</td>\n",
       "      <td>0.000000</td>\n",
       "    </tr>\n",
       "    <tr>\n",
       "      <td>50%</td>\n",
       "      <td>0.640000</td>\n",
       "      <td>0.720000</td>\n",
       "      <td>4.000000</td>\n",
       "      <td>200.000000</td>\n",
       "      <td>3.000000</td>\n",
       "      <td>0.000000</td>\n",
       "      <td>0.000000</td>\n",
       "    </tr>\n",
       "    <tr>\n",
       "      <td>75%</td>\n",
       "      <td>0.820000</td>\n",
       "      <td>0.870000</td>\n",
       "      <td>5.000000</td>\n",
       "      <td>245.000000</td>\n",
       "      <td>4.000000</td>\n",
       "      <td>0.000000</td>\n",
       "      <td>0.000000</td>\n",
       "    </tr>\n",
       "    <tr>\n",
       "      <td>max</td>\n",
       "      <td>1.000000</td>\n",
       "      <td>1.000000</td>\n",
       "      <td>7.000000</td>\n",
       "      <td>310.000000</td>\n",
       "      <td>10.000000</td>\n",
       "      <td>1.000000</td>\n",
       "      <td>1.000000</td>\n",
       "    </tr>\n",
       "  </tbody>\n",
       "</table>\n",
       "</div>"
      ],
      "text/plain": [
       "       satisfaction_level  last_evaluation  number_project  \\\n",
       "count        14999.000000     14999.000000    14999.000000   \n",
       "mean             0.612834         0.716102        3.803054   \n",
       "std              0.248631         0.171169        1.232592   \n",
       "min              0.090000         0.360000        2.000000   \n",
       "25%              0.440000         0.560000        3.000000   \n",
       "50%              0.640000         0.720000        4.000000   \n",
       "75%              0.820000         0.870000        5.000000   \n",
       "max              1.000000         1.000000        7.000000   \n",
       "\n",
       "       average_montly_hours  time_spend_company  Work_accident  \\\n",
       "count          14999.000000        14999.000000   14999.000000   \n",
       "mean             201.050337            3.498233       0.144610   \n",
       "std               49.943099            1.460136       0.351719   \n",
       "min               96.000000            2.000000       0.000000   \n",
       "25%              156.000000            3.000000       0.000000   \n",
       "50%              200.000000            3.000000       0.000000   \n",
       "75%              245.000000            4.000000       0.000000   \n",
       "max              310.000000           10.000000       1.000000   \n",
       "\n",
       "       promotion_last_5years  \n",
       "count           14999.000000  \n",
       "mean                0.021268  \n",
       "std                 0.144281  \n",
       "min                 0.000000  \n",
       "25%                 0.000000  \n",
       "50%                 0.000000  \n",
       "75%                 0.000000  \n",
       "max                 1.000000  "
      ]
     },
     "execution_count": 9,
     "metadata": {},
     "output_type": "execute_result"
    }
   ],
   "source": [
    "# Lets see summary of numerical attributes\n",
    "churn.describe()"
   ]
  },
  {
   "cell_type": "code",
   "execution_count": 10,
   "metadata": {},
   "outputs": [
    {
     "data": {
      "image/png": "[encoded data removed]",
      "text/plain": [
       "<Figure size 1440x1080 with 9 Axes>"
      ]
     },
     "metadata": {
      "needs_background": "light"
     },
     "output_type": "display_data"
    }
   ],
   "source": [
    "# Lets see type of data and distribution\n",
    "churn.hist(bins=50,figsize=(20,15))\n",
    "plt.show()"
   ]
  },
  {
   "cell_type": "markdown",
   "metadata": {},
   "source": [
    "<h2 style='color:black' align='left'>Create a Test Set</h2>"
   ]
  },
  {
   "cell_type": "code",
   "execution_count": 11,
   "metadata": {},
   "outputs": [],
   "source": [
    "# Split the data to train and test sets\n",
    "from sklearn.model_selection import train_test_split\n",
    "\n",
    "train_set, test_set = train_test_split(churn, test_size=0.2, random_state=42)"
   ]
  },
  {
   "cell_type": "markdown",
   "metadata": {},
   "source": [
    "<h1 style='color:blue' align='left'>Discover and Visualize the Data to Gain Insights</h1>"
   ]
  },
  {
   "cell_type": "markdown",
   "metadata": {},
   "source": [
    "<h2 style='color:black' align='left' >Visualizing and Examining Data</h2>"
   ]
  },
  {
   "cell_type": "code",
   "execution_count": 12,
   "metadata": {},
   "outputs": [
    {
     "data": {
      "image/png": "[encoded data removed]",
      "text/plain": [
       "<Figure size 432x288 with 1 Axes>"
      ]
     },
     "metadata": {
      "needs_background": "light"
     },
     "output_type": "display_data"
    }
   ],
   "source": [
    "import seaborn as sns\n",
    "sns.boxplot(train_set['average_montly_hours']).set_title('Boxplot')\n",
    "plt.show()"
   ]
  },
  {
   "cell_type": "code",
   "execution_count": 13,
   "metadata": {},
   "outputs": [
    {
     "data": {
      "image/png": "[encoded data removed]",
      "text/plain": [
       "<Figure size 432x288 with 1 Axes>"
      ]
     },
     "metadata": {
      "needs_background": "light"
     },
     "output_type": "display_data"
    }
   ],
   "source": [
    "sns.boxplot(train_set['time_spend_company']).set_title('Boxplot')\n",
    "plt.show()"
   ]
  },
  {
   "cell_type": "code",
   "execution_count": 14,
   "metadata": {},
   "outputs": [
    {
     "data": {
      "image/png": "[encoded data removed]",
      "text/plain": [
       "<Figure size 432x288 with 1 Axes>"
      ]
     },
     "metadata": {
      "needs_background": "light"
     },
     "output_type": "display_data"
    }
   ],
   "source": [
    "sns.boxplot(train_set['satisfaction_level']).set_title('Boxplot')\n",
    "plt.show()"
   ]
  },
  {
   "cell_type": "code",
   "execution_count": 15,
   "metadata": {},
   "outputs": [
    {
     "data": {
      "image/png": "[encoded data removed]",
      "text/plain": [
       "<Figure size 432x288 with 1 Axes>"
      ]
     },
     "metadata": {
      "needs_background": "light"
     },
     "output_type": "display_data"
    }
   ],
   "source": [
    "sns.boxplot(train_set['number_project']).set_title('Boxplot')\n",
    "plt.show()"
   ]
  },
  {
   "cell_type": "markdown",
   "metadata": {},
   "source": [
    "**Boxplot shows that the 'time_spend_company' column has outliers.**"
   ]
  },
  {
   "cell_type": "markdown",
   "metadata": {},
   "source": [
    "<h2 style='color:black' align='left'>Looking for Correlations</h2>"
   ]
  },
  {
   "cell_type": "code",
   "execution_count": 16,
   "metadata": {},
   "outputs": [
    {
     "data": {
      "image/png": "[encoded data removed]",
      "text/plain": [
       "<Figure size 864x576 with 16 Axes>"
      ]
     },
     "metadata": {
      "needs_background": "light"
     },
     "output_type": "display_data"
    }
   ],
   "source": [
    "from pandas.plotting import scatter_matrix\n",
    "\n",
    "#Look for correlations between the features\n",
    "columns = ['average_montly_hours', 'last_evaluation', 'number_project', 'satisfaction_level']\n",
    "scatter_matrix(train_set[columns], figsize=(12, 8))\n",
    "plt.show()"
   ]
  },
  {
   "cell_type": "markdown",
   "metadata": {},
   "source": [
    "<h1 style='color:blue' align='left'>Prepare the Data for Machine Learning Algorithms</h1>"
   ]
  },
  {
   "cell_type": "markdown",
   "metadata": {},
   "source": [
    "<h2 style='color:black' align='left'>Data Cleaning</h2>"
   ]
  },
  {
   "cell_type": "code",
   "execution_count": 17,
   "metadata": {},
   "outputs": [
    {
     "data": {
      "text/plain": [
       "satisfaction_level        92\n",
       "last_evaluation           65\n",
       "number_project             6\n",
       "average_montly_hours     215\n",
       "time_spend_company         8\n",
       "Work_accident              2\n",
       "left                       2\n",
       "promotion_last_5years      2\n",
       "Department                10\n",
       "salary                     3\n",
       "dtype: int64"
      ]
     },
     "execution_count": 17,
     "metadata": {},
     "output_type": "execute_result"
    }
   ],
   "source": [
    "# Identify columns with single value and remove them\n",
    "train_set.nunique()"
   ]
  },
  {
   "cell_type": "code",
   "execution_count": 18,
   "metadata": {},
   "outputs": [],
   "source": [
    "# Identify and remove rows with duplicate data\n",
    "train_set = train_set.drop_duplicates(keep='first')"
   ]
  },
  {
   "cell_type": "code",
   "execution_count": 19,
   "metadata": {},
   "outputs": [],
   "source": [
    "# Remove outliers\n",
    "Q1, Q3= train_set['time_spend_company'].quantile(0.25), train_set['time_spend_company'].quantile(0.75)\n",
    "IQR = Q3 - Q1\n",
    "cut_off = IQR * 1.5\n",
    "lower, upper = Q1 - cut_off, Q3 + cut_off"
   ]
  },
  {
   "cell_type": "code",
   "execution_count": 20,
   "metadata": {},
   "outputs": [
    {
     "data": {
      "text/plain": [
       "(705, 10)"
      ]
     },
     "execution_count": 20,
     "metadata": {},
     "output_type": "execute_result"
    }
   ],
   "source": [
    "outliers = train_set[(train_set['time_spend_company'] < lower)|(train_set['time_spend_company'] > upper)]\n",
    "outliers.shape"
   ]
  },
  {
   "cell_type": "code",
   "execution_count": 21,
   "metadata": {},
   "outputs": [],
   "source": [
    "train_set = train_set[(train_set['time_spend_company'] > lower) & (train_set['time_spend_company'] < upper)]"
   ]
  },
  {
   "cell_type": "code",
   "execution_count": 22,
   "metadata": {},
   "outputs": [
    {
     "data": {
      "image/png": "[encoded data removed]",
      "text/plain": [
       "<Figure size 504x360 with 1 Axes>"
      ]
     },
     "metadata": {
      "needs_background": "light"
     },
     "output_type": "display_data"
    }
   ],
   "source": [
    "# Lets take a look at the 'time_spend_company', after outliers removal\n",
    "train_set['time_spend_company'].hist(figsize=(7,5))\n",
    "plt.show()"
   ]
  },
  {
   "cell_type": "markdown",
   "metadata": {},
   "source": [
    "**The distribution has become less skewed after the outliers removal.**"
   ]
  },
  {
   "cell_type": "markdown",
   "metadata": {},
   "source": [
    "<h2 style='color:black' align='left'>Feature Selection</h2>"
   ]
  },
  {
   "cell_type": "markdown",
   "metadata": {},
   "source": [
    "<h3 style='color:black' align='left'>Convert all inputs to numeric</h3>"
   ]
  },
  {
   "cell_type": "code",
   "execution_count": 23,
   "metadata": {},
   "outputs": [],
   "source": [
    "from sklearn.feature_selection import SelectKBest\n",
    "from sklearn.preprocessing import LabelEncoder\n",
    "from sklearn.preprocessing import OrdinalEncoder\n",
    "from sklearn.preprocessing import OneHotEncoder\n",
    "from sklearn.feature_selection import f_classif\n",
    "from matplotlib import pyplot\n",
    "from sklearn.feature_selection import mutual_info_classif\n",
    "\n",
    "#separate target variable\n",
    "def separate_target(train_set,test_set):\n",
    "    X_train = train_set.drop('left',axis=1)\n",
    "    y_train = train_set['left'].copy()\n",
    "    X_test = test_set.drop('left',axis=1)\n",
    "    y_test = test_set['left'].copy()\n",
    "    return X_train, y_train, X_test, y_test\n",
    "\n",
    "#prepare inputs\n",
    "def prepare_inputs(X_train, X_test):\n",
    "    oe = OrdinalEncoder([['low','medium','high']])\n",
    "    oe.fit(X_train[['salary']])\n",
    "    X_train_enc = oe.transform(X_train[['salary']])\n",
    "    X_test_enc = oe.transform(X_test[['salary']])\n",
    "    return X_train_enc, X_test_enc\n",
    "\n",
    "# prepare target\n",
    "def prepare_targets(y_train, y_test):\n",
    "    le = LabelEncoder()\n",
    "    le.fit(y_train)\n",
    "    y_train_enc = le.transform(y_train)\n",
    "    y_test_enc = le.transform(y_test)\n",
    "    return y_train_enc, y_test_enc\n",
    "\n",
    "#encode norminal variable\n",
    "def encode_oneHot(X_train, X_test):\n",
    "    ohe = OneHotEncoder(sparse=False)\n",
    "    ohe.fit(X_train[['Department']])\n",
    "    X_train_ohe_enc = ohe.transform(X_train[['Department']])\n",
    "    X_test_ohe_enc = ohe.transform(X_test[['Department']])\n",
    "    return X_train_ohe_enc, X_test_ohe_enc\n",
    "\n",
    "X_train, y_train, X_test, y_test = separate_target(train_set, test_set)\n",
    "X_train_enc, X_test_enc = prepare_inputs(X_train, X_test)\n",
    "y_train_enc, y_test_enc = prepare_targets(y_train, y_test)\n",
    "X_train_ohe_enc, X_test_ohe_enc = encode_oneHot(X_train, X_test)"
   ]
  },
  {
   "cell_type": "code",
   "execution_count": 24,
   "metadata": {},
   "outputs": [],
   "source": [
    "# get the numeric columns and concatenate the transformed array columns\n",
    "def data(X_train,X_test):\n",
    "    X_train_num = X_train.iloc[:,:-2].values\n",
    "    X_test_num = X_test.iloc[:,:-2].values\n",
    "    return X_train_num, X_test_num\n",
    "X_train_num, X_test_num = data(X_train,X_test)"
   ]
  },
  {
   "cell_type": "code",
   "execution_count": 25,
   "metadata": {},
   "outputs": [],
   "source": [
    "#Concatenate arrays back into the full training set\n",
    "X_train_var = np.c_[X_train_num, X_train_enc, X_train_ohe_enc ]"
   ]
  },
  {
   "cell_type": "markdown",
   "metadata": {},
   "source": [
    "**Note: Better to convert target in a classification problem earlier in the data prep to string. Rearrange the data early to have the numeric variables come first , followed by the ordinal categorical and then the norminal to be last.\n",
    "Feature selection is easier if the features are all categorical or all numerical, so converting categorical to numerical before feature selection is very important.\n",
    "All of the transformation during Feature selection will not be effected on the training data, better to use Pipelines and Columns transformation.**"
   ]
  },
  {
   "cell_type": "code",
   "execution_count": 26,
   "metadata": {},
   "outputs": [],
   "source": [
    "# select the best features\n",
    "def select_features(X_train_var, y_train):\n",
    "    fs = SelectKBest(score_func=f_classif, k='all')\n",
    "    fs.fit(X_train_var, y_train)\n",
    "    X_train_fs = fs.transform(X_train_var)\n",
    "    return X_train_fs, fs\n",
    "X_train_fs, fs = select_features(X_train_var, y_train)"
   ]
  },
  {
   "cell_type": "code",
   "execution_count": 27,
   "metadata": {},
   "outputs": [
    {
     "data": {
      "text/plain": [
       "array([1.87053946e+03, 1.03060346e+00, 6.61278949e+00, 3.51143172e+01,\n",
       "       1.15901283e+03, 1.56775709e+02, 1.57371747e+01, 1.32829837e+02,\n",
       "       2.12087173e-02, 1.02693979e+01, 2.10765459e-01, 8.18318010e-01,\n",
       "       2.21312589e+00, 1.54225914e-01, 3.21225450e-01, 1.67906846e+00,\n",
       "       2.70719586e-01, 1.08257098e+00])"
      ]
     },
     "execution_count": 27,
     "metadata": {},
     "output_type": "execute_result"
    }
   ],
   "source": [
    "fs.scores_"
   ]
  },
  {
   "cell_type": "code",
   "execution_count": 28,
   "metadata": {},
   "outputs": [
    {
     "name": "stdout",
     "output_type": "stream",
     "text": [
      "Feature: 0: 1870.539458\n",
      "Feature: 1: 1.030603\n",
      "Feature: 2: 6.612789\n",
      "Feature: 3: 35.114317\n",
      "Feature: 4: 1159.012830\n",
      "Feature: 5: 156.775709\n",
      "Feature: 6: 15.737175\n",
      "Feature: 7: 132.829837\n",
      "Feature: 8: 0.021209\n",
      "Feature: 9: 10.269398\n",
      "Feature: 10: 0.210765\n",
      "Feature: 11: 0.818318\n",
      "Feature: 12: 2.213126\n",
      "Feature: 13: 0.154226\n",
      "Feature: 14: 0.321225\n",
      "Feature: 15: 1.679068\n",
      "Feature: 16: 0.270720\n",
      "Feature: 17: 1.082571\n"
     ]
    }
   ],
   "source": [
    "#View scores for each feature\n",
    "for i in range(len(fs.scores_)):\n",
    "    print('Feature: %d: %f' % (i, fs.scores_[i]))"
   ]
  },
  {
   "cell_type": "code",
   "execution_count": 29,
   "metadata": {},
   "outputs": [
    {
     "data": {
      "image/png": "[encoded data removed]",
      "text/plain": [
       "<Figure size 432x288 with 1 Axes>"
      ]
     },
     "metadata": {
      "needs_background": "light"
     },
     "output_type": "display_data"
    }
   ],
   "source": [
    "#Plot feature selection score\n",
    "plt.bar([i for i in range(len(fs.scores_))], fs.scores_)\n",
    "plt.show()"
   ]
  },
  {
   "cell_type": "markdown",
   "metadata": {},
   "source": [
    "**From the scores and bar graphs we can see that the most relevant features are: satisfaction_level, time_spend_company, Work_accident, and salary.**"
   ]
  },
  {
   "cell_type": "markdown",
   "metadata": {},
   "source": [
    "**Drop the 'promotion_last_5years' feature. The data is almost like having one value.**"
   ]
  },
  {
   "cell_type": "code",
   "execution_count": 30,
   "metadata": {},
   "outputs": [],
   "source": [
    "# Drop irrelevant feature\n",
    "X_train = X_train.drop('promotion_last_5years',axis=1)\n",
    "X_test = X_test.drop('promotion_last_5years',axis=1)"
   ]
  },
  {
   "cell_type": "code",
   "execution_count": 31,
   "metadata": {},
   "outputs": [],
   "source": [
    "# Rearrange feature\n",
    "col = X_train.pop('salary')\n",
    "X_train.insert(6, 'salary', col)\n",
    "\n",
    "col = X_test.pop('salary')\n",
    "X_test.insert(6, 'salary', col)"
   ]
  },
  {
   "cell_type": "markdown",
   "metadata": {},
   "source": [
    "<h2 style='color:black' align='left'>Transformation Pipelines</h2>"
   ]
  },
  {
   "cell_type": "markdown",
   "metadata": {},
   "source": [
    "The transformations done earlier was to enable feature selection. We will now use ColumnTransformer for transforming different data types on the column."
   ]
  },
  {
   "cell_type": "code",
   "execution_count": 32,
   "metadata": {
    "scrolled": true
   },
   "outputs": [],
   "source": [
    "# Create final transformation for train set\n",
    "from sklearn.compose import ColumnTransformer\n",
    "from sklearn.preprocessing import StandardScaler\n",
    "from sklearn.preprocessing import OrdinalEncoder\n",
    "from sklearn.preprocessing import OneHotEncoder\n",
    "\n",
    "num_attribs = list(X_train)[:6]\n",
    "oe_attribs = ['salary']\n",
    "ohe_attribs = ['Department']\n",
    "full_transform = ColumnTransformer(transformers=[\n",
    "     ('std_scaler', StandardScaler(), num_attribs),\n",
    "    ('ordinal_enc', OrdinalEncoder(categories=[['low','medium','high']]), oe_attribs),\n",
    "    ('oneHot_enc', OneHotEncoder(sparse=False), ohe_attribs)],\n",
    "                                  remainder='passthrough')\n",
    "X_train_final = full_transform.fit_transform(X_train) "
   ]
  },
  {
   "cell_type": "code",
   "execution_count": 33,
   "metadata": {},
   "outputs": [],
   "source": [
    "# Create final transformation for test set \n",
    "X_test_final = full_transform.transform(X_test) "
   ]
  },
  {
   "cell_type": "code",
   "execution_count": 34,
   "metadata": {},
   "outputs": [
    {
     "data": {
      "image/png": "[encoded data removed]",
      "text/plain": [
       "<Figure size 864x432 with 9 Axes>"
      ]
     },
     "metadata": {
      "needs_background": "light"
     },
     "output_type": "display_data"
    }
   ],
   "source": [
    "# Plot histogram to check result of feature scaling\n",
    "pd.DataFrame(X_train_final).iloc[:,:7].hist(figsize=(12,6))\n",
    "plt.show()"
   ]
  },
  {
   "cell_type": "markdown",
   "metadata": {},
   "source": [
    "<h1 style='color:blue' align='left'>Select, Train and Evaluate Models</h1>"
   ]
  },
  {
   "cell_type": "markdown",
   "metadata": {},
   "source": [
    "<h2 style='color:black align='left>Training and Evaluating on the Training Set</h2>"
   ]
  },
  {
   "cell_type": "markdown",
   "metadata": {},
   "source": [
    "<h3 style='color:black' align='left'>Logistic Regression</h3>"
   ]
  },
  {
   "cell_type": "code",
   "execution_count": 35,
   "metadata": {},
   "outputs": [
    {
     "data": {
      "text/plain": [
       "LogisticRegression(C=1.0, class_weight=None, dual=False, fit_intercept=True,\n",
       "                   intercept_scaling=1, l1_ratio=None, max_iter=100,\n",
       "                   multi_class='ovr', n_jobs=None, penalty='l2',\n",
       "                   random_state=None, solver='liblinear', tol=0.0001, verbose=0,\n",
       "                   warm_start=False)"
      ]
     },
     "execution_count": 35,
     "metadata": {},
     "output_type": "execute_result"
    }
   ],
   "source": [
    "#Train model\n",
    "from sklearn.linear_model import LogisticRegression\n",
    "from sklearn.metrics import accuracy_score\n",
    "\n",
    "lr = LogisticRegression(solver='liblinear',multi_class='ovr')\n",
    "lr.fit(X_train_final, y_train_enc)"
   ]
  },
  {
   "cell_type": "code",
   "execution_count": 36,
   "metadata": {},
   "outputs": [],
   "source": [
    "y_pred = lr.predict(X_train_final)"
   ]
  },
  {
   "cell_type": "markdown",
   "metadata": {},
   "source": [
    "<h4 style='color:black' align='left'>Model Evaluation</h4>"
   ]
  },
  {
   "cell_type": "code",
   "execution_count": 37,
   "metadata": {},
   "outputs": [],
   "source": [
    "#Evaluate model on training set\n",
    "accuracy = accuracy_score(y_train_enc, y_pred)"
   ]
  },
  {
   "cell_type": "code",
   "execution_count": 38,
   "metadata": {},
   "outputs": [
    {
     "name": "stdout",
     "output_type": "stream",
     "text": [
      "Accuracy: 82.16\n"
     ]
    }
   ],
   "source": [
    "print('Accuracy: %.2f' % (accuracy * 100))"
   ]
  },
  {
   "cell_type": "code",
   "execution_count": 39,
   "metadata": {},
   "outputs": [
    {
     "name": "stdout",
     "output_type": "stream",
     "text": [
      "[0.82615733 0.81935902 0.81665047]\n",
      "Accuracy: 82.072 (0.400)\n"
     ]
    }
   ],
   "source": [
    "# Evaluate cross validation\n",
    "from sklearn.model_selection import cross_val_score\n",
    "from numpy import mean\n",
    "from numpy import std\n",
    "\n",
    "n_scores = cross_val_score(lr, X_train_final, y_train_enc, scoring='accuracy',cv=3, n_jobs=-1)\n",
    "print(n_scores)\n",
    "print('Accuracy: %.3f (%.3f)' % (mean(n_scores * 100), std(n_scores * 100)))"
   ]
  },
  {
   "cell_type": "code",
   "execution_count": 40,
   "metadata": {},
   "outputs": [
    {
     "data": {
      "text/plain": [
       "0.5116279069767442"
      ]
     },
     "execution_count": 40,
     "metadata": {},
     "output_type": "execute_result"
    }
   ],
   "source": [
    "#Evaluate Precision/Recall\n",
    "from sklearn.metrics import precision_score, recall_score\n",
    "\n",
    "precision_score(y_train_enc, y_pred)"
   ]
  },
  {
   "cell_type": "code",
   "execution_count": 41,
   "metadata": {},
   "outputs": [
    {
     "data": {
      "text/plain": [
       "0.301909307875895"
      ]
     },
     "execution_count": 41,
     "metadata": {},
     "output_type": "execute_result"
    }
   ],
   "source": [
    "recall_score(y_train_enc, y_pred)"
   ]
  },
  {
   "cell_type": "code",
   "execution_count": 42,
   "metadata": {},
   "outputs": [
    {
     "data": {
      "text/plain": [
       "0.3797373358348968"
      ]
     },
     "execution_count": 42,
     "metadata": {},
     "output_type": "execute_result"
    }
   ],
   "source": [
    "# Get the f1_score\n",
    "from sklearn.metrics import f1_score\n",
    "\n",
    "f1_score(y_train_enc, y_pred)"
   ]
  },
  {
   "cell_type": "markdown",
   "metadata": {},
   "source": [
    "<h3 style='color:black' align='left'>Decision Tree Classifier</h3>"
   ]
  },
  {
   "cell_type": "code",
   "execution_count": 43,
   "metadata": {},
   "outputs": [
    {
     "data": {
      "text/plain": [
       "DecisionTreeClassifier(class_weight=None, criterion='gini', max_depth=None,\n",
       "                       max_features=None, max_leaf_nodes=None,\n",
       "                       min_impurity_decrease=0.0, min_impurity_split=None,\n",
       "                       min_samples_leaf=1, min_samples_split=2,\n",
       "                       min_weight_fraction_leaf=0.0, presort=False,\n",
       "                       random_state=None, splitter='best')"
      ]
     },
     "execution_count": 43,
     "metadata": {},
     "output_type": "execute_result"
    }
   ],
   "source": [
    "from sklearn.tree import DecisionTreeClassifier\n",
    "\n",
    "tree = DecisionTreeClassifier()\n",
    "tree.fit(X_train_final, y_train_enc)"
   ]
  },
  {
   "cell_type": "code",
   "execution_count": 44,
   "metadata": {},
   "outputs": [],
   "source": [
    "y_pred_tree = tree.predict(X_train_final)"
   ]
  },
  {
   "cell_type": "markdown",
   "metadata": {},
   "source": [
    "<h4 style='color:black' align='left'>Model Evaluation</h4>"
   ]
  },
  {
   "cell_type": "code",
   "execution_count": 45,
   "metadata": {},
   "outputs": [
    {
     "name": "stdout",
     "output_type": "stream",
     "text": [
      "Accuracy: 100.00\n"
     ]
    }
   ],
   "source": [
    "#Evaluate model on training set\n",
    "accuracy = accuracy_score(y_train_enc, y_pred_tree)\n",
    "print('Accuracy: %.2f' % (accuracy * 100))"
   ]
  },
  {
   "cell_type": "code",
   "execution_count": 46,
   "metadata": {},
   "outputs": [
    {
     "name": "stdout",
     "output_type": "stream",
     "text": [
      "[0.82615733 0.81935902 0.81665047]\n",
      "Accuracy: 82.072 (0.400)\n"
     ]
    }
   ],
   "source": [
    "# Evaluate cross validation\n",
    "from sklearn.model_selection import cross_val_score\n",
    "from numpy import mean\n",
    "from numpy import std\n",
    "\n",
    "n_scores = cross_val_score(lr, X_train_final, y_train_enc, scoring='accuracy',cv=3, n_jobs=-1)\n",
    "print(n_scores)\n",
    "print('Accuracy: %.3f (%.3f)' % (mean(n_scores * 100), std(n_scores * 100)))"
   ]
  },
  {
   "cell_type": "code",
   "execution_count": 47,
   "metadata": {},
   "outputs": [
    {
     "data": {
      "text/plain": [
       "1.0"
      ]
     },
     "execution_count": 47,
     "metadata": {},
     "output_type": "execute_result"
    }
   ],
   "source": [
    "#Evaluate Precision/Recall\n",
    "precision_score(y_train_enc, y_pred_tree)"
   ]
  },
  {
   "cell_type": "code",
   "execution_count": 48,
   "metadata": {},
   "outputs": [
    {
     "data": {
      "text/plain": [
       "1.0"
      ]
     },
     "execution_count": 48,
     "metadata": {},
     "output_type": "execute_result"
    }
   ],
   "source": [
    "recall_score(y_train_enc, y_pred_tree)"
   ]
  },
  {
   "cell_type": "code",
   "execution_count": 49,
   "metadata": {},
   "outputs": [
    {
     "data": {
      "text/plain": [
       "1.0"
      ]
     },
     "execution_count": 49,
     "metadata": {},
     "output_type": "execute_result"
    }
   ],
   "source": [
    "# Get the f1_score\n",
    "from sklearn.metrics import f1_score\n",
    "\n",
    "f1_score(y_train_enc, y_pred_tree)"
   ]
  },
  {
   "cell_type": "markdown",
   "metadata": {},
   "source": [
    "<h3 style='color:black' align='left'>Random Forest Classifier</h3>"
   ]
  },
  {
   "cell_type": "code",
   "execution_count": 50,
   "metadata": {},
   "outputs": [
    {
     "data": {
      "text/plain": [
       "RandomForestClassifier(bootstrap=True, class_weight=None, criterion='gini',\n",
       "                       max_depth=None, max_features='auto', max_leaf_nodes=None,\n",
       "                       min_impurity_decrease=0.0, min_impurity_split=None,\n",
       "                       min_samples_leaf=1, min_samples_split=2,\n",
       "                       min_weight_fraction_leaf=0.0, n_estimators=50,\n",
       "                       n_jobs=None, oob_score=False, random_state=None,\n",
       "                       verbose=0, warm_start=False)"
      ]
     },
     "execution_count": 50,
     "metadata": {},
     "output_type": "execute_result"
    }
   ],
   "source": [
    "from sklearn.ensemble import RandomForestClassifier\n",
    "from sklearn.metrics import accuracy_score\n",
    "\n",
    "rf = RandomForestClassifier(n_estimators=50)\n",
    "rf.fit(X_train_final, y_train_enc)"
   ]
  },
  {
   "cell_type": "code",
   "execution_count": 51,
   "metadata": {},
   "outputs": [],
   "source": [
    "y_pred_rf = rf.predict(X_train_final)"
   ]
  },
  {
   "cell_type": "markdown",
   "metadata": {},
   "source": [
    "<h4 style='color:black' align='left'>Model Evaluation</h4>"
   ]
  },
  {
   "cell_type": "code",
   "execution_count": 52,
   "metadata": {},
   "outputs": [
    {
     "name": "stdout",
     "output_type": "stream",
     "text": [
      "Accuracy: 99.98\n"
     ]
    }
   ],
   "source": [
    "#Evaluate model on training set\n",
    "accuracy = accuracy_score(y_train_enc, y_pred_rf)\n",
    "print('Accuracy: %.2f' % (accuracy * 100))"
   ]
  },
  {
   "cell_type": "code",
   "execution_count": 53,
   "metadata": {},
   "outputs": [
    {
     "name": "stdout",
     "output_type": "stream",
     "text": [
      "[0.98187116 0.98057624 0.9850988 ]\n",
      "Accuracy: 98.252 (0.190)\n"
     ]
    }
   ],
   "source": [
    "# Evaluate cross validation\n",
    "n_scores = cross_val_score(rf, X_train_final, y_train_enc, scoring='accuracy',cv=3, n_jobs=-1)\n",
    "print(n_scores)\n",
    "print('Accuracy: %.3f (%.3f)' % (mean(n_scores * 100), std(n_scores * 100)))"
   ]
  },
  {
   "cell_type": "code",
   "execution_count": 54,
   "metadata": {},
   "outputs": [
    {
     "data": {
      "text/plain": [
       "1.0"
      ]
     },
     "execution_count": 54,
     "metadata": {},
     "output_type": "execute_result"
    }
   ],
   "source": [
    "#Evaluate Precision/Recall\n",
    "precision_score(y_train_enc, y_pred_rf)"
   ]
  },
  {
   "cell_type": "code",
   "execution_count": 55,
   "metadata": {},
   "outputs": [
    {
     "data": {
      "text/plain": [
       "0.9988066825775657"
      ]
     },
     "execution_count": 55,
     "metadata": {},
     "output_type": "execute_result"
    }
   ],
   "source": [
    "recall_score(y_train_enc, y_pred_rf)"
   ]
  },
  {
   "cell_type": "code",
   "execution_count": 56,
   "metadata": {},
   "outputs": [
    {
     "data": {
      "text/plain": [
       "0.9994029850746269"
      ]
     },
     "execution_count": 56,
     "metadata": {},
     "output_type": "execute_result"
    }
   ],
   "source": [
    "# Get the f1_score\n",
    "from sklearn.metrics import f1_score\n",
    "\n",
    "f1_score(y_train_enc, y_pred_rf)"
   ]
  },
  {
   "cell_type": "markdown",
   "metadata": {},
   "source": [
    "<h2 style='color:black' align='left'>Learning Curves</h2>"
   ]
  },
  {
   "cell_type": "code",
   "execution_count": 57,
   "metadata": {},
   "outputs": [
    {
     "name": "stdout",
     "output_type": "stream",
     "text": [
      "[learning_curve] Training set sizes: [  83  251  420  588  757  925 1094 1262 1431 1599 1767 1936 2104 2273\n",
      " 2441 2610 2778 2947 3115 3284 3452 3621 3789 3957 4126 4294 4463 4631\n",
      " 4800 4968 5137 5305 5474 5642 5811 5979 6147 6316 6484 6653 6821 6990\n",
      " 7158 7327 7495 7664 7832 8001 8169 8338]\n"
     ]
    },
    {
     "name": "stderr",
     "output_type": "stream",
     "text": [
      "[Parallel(n_jobs=-1)]: Using backend LokyBackend with 4 concurrent workers.\n",
      "[Parallel(n_jobs=-1)]: Done 500 out of 500 | elapsed:   24.2s finished\n"
     ]
    }
   ],
   "source": [
    "#Plot learning curve for RandomForest Classifier\n",
    "from sklearn.model_selection import learning_curve\n",
    "\n",
    "train_sizes, train_scores, test_scores = learning_curve(rf, X_train_final, y_train_enc,cv=10, \n",
    "                                                        scoring='accuracy', n_jobs=-1,\n",
    "                                                        train_sizes=np.linspace(0.01,1,50),\n",
    "                                                        verbose=1)"
   ]
  },
  {
   "cell_type": "code",
   "execution_count": 58,
   "metadata": {},
   "outputs": [],
   "source": [
    "#Get the train scores mean and standard deviation\n",
    "train_mean = np.mean(train_scores, axis=1)\n",
    "train_std = np.std(train_scores, axis=1)"
   ]
  },
  {
   "cell_type": "code",
   "execution_count": 59,
   "metadata": {},
   "outputs": [],
   "source": [
    "#Get the test scores mean and standard deviation\n",
    "test_mean = np.mean(test_scores, axis=1)\n",
    "test_std = np.std(test_scores, axis=1)"
   ]
  },
  {
   "cell_type": "code",
   "execution_count": 60,
   "metadata": {},
   "outputs": [
    {
     "data": {
      "image/png": "[encoded data removed]",
      "text/plain": [
       "<Figure size 432x288 with 1 Axes>"
      ]
     },
     "metadata": {
      "needs_background": "light"
     },
     "output_type": "display_data"
    }
   ],
   "source": [
    "plt.plot(train_sizes, train_mean, \"r-+\", linewidth=2,label = 'Training Score')\n",
    "plt.plot(train_sizes, test_mean, \"b-\", linewidth=3,label = 'Cross-Validation Score')\n",
    "plt.title('Learning Curve')\n",
    "plt.xlabel('Training Size')\n",
    "plt.ylabel('Accuracy Score')\n",
    "plt.legend(loc='best')\n",
    "plt.show()"
   ]
  },
  {
   "cell_type": "markdown",
   "metadata": {},
   "source": [
    "<h1 style='color:blue' align='left'>Fine-Tune Your Model</h1>"
   ]
  },
  {
   "cell_type": "markdown",
   "metadata": {},
   "source": [
    "<h2 style='color:black' align='left'>Grid Search</h2>"
   ]
  },
  {
   "cell_type": "code",
   "execution_count": 61,
   "metadata": {},
   "outputs": [
    {
     "data": {
      "text/plain": [
       "GridSearchCV(cv=5, error_score='raise-deprecating',\n",
       "             estimator=RandomForestClassifier(bootstrap=True, class_weight=None,\n",
       "                                              criterion='gini', max_depth=None,\n",
       "                                              max_features='auto',\n",
       "                                              max_leaf_nodes=None,\n",
       "                                              min_impurity_decrease=0.0,\n",
       "                                              min_impurity_split=None,\n",
       "                                              min_samples_leaf=1,\n",
       "                                              min_samples_split=2,\n",
       "                                              min_weight_fraction_leaf=0.0,\n",
       "                                              n_estimators='warn', n_jobs=None,\n",
       "                                              oob_score=False,\n",
       "                                              random_state=None, verbose=0,\n",
       "                                              warm_start=False),\n",
       "             iid='warn', n_jobs=None,\n",
       "             param_grid=[{'max_features': [2, 4, 7, 8],\n",
       "                          'n_estimators': [10, 30, 50]},\n",
       "                         {'bootstrap': [False], 'max_features': [3, 5, 7, 8],\n",
       "                          'n_estimators': [10, 25, 50]}],\n",
       "             pre_dispatch='2*n_jobs', refit=True, return_train_score=False,\n",
       "             scoring='accuracy', verbose=0)"
      ]
     },
     "execution_count": 61,
     "metadata": {},
     "output_type": "execute_result"
    }
   ],
   "source": [
    "from sklearn.model_selection import GridSearchCV\n",
    "\n",
    "param_grid = [\n",
    "    {'n_estimators': [10, 30, 50], 'max_features': [2, 4, 7, 8]},\n",
    "    {'bootstrap': [False], 'n_estimators': [10, 25, 50], 'max_features': [3, 5, 7, 8]}\n",
    "]\n",
    "rf = RandomForestClassifier()\n",
    "grid_search = GridSearchCV(rf, param_grid, cv=5, scoring='accuracy', return_train_score=False,\n",
    "                          )\n",
    "grid_search.fit(X_train_final, y_train_enc)"
   ]
  },
  {
   "cell_type": "code",
   "execution_count": 62,
   "metadata": {},
   "outputs": [
    {
     "data": {
      "text/plain": [
       "{'max_features': 8, 'n_estimators': 50}"
      ]
     },
     "execution_count": 62,
     "metadata": {},
     "output_type": "execute_result"
    }
   ],
   "source": [
    "# Lets get the best parameter directly\n",
    "grid_search.best_params_"
   ]
  },
  {
   "cell_type": "code",
   "execution_count": 63,
   "metadata": {},
   "outputs": [
    {
     "data": {
      "text/plain": [
       "RandomForestClassifier(bootstrap=True, class_weight=None, criterion='gini',\n",
       "                       max_depth=None, max_features=8, max_leaf_nodes=None,\n",
       "                       min_impurity_decrease=0.0, min_impurity_split=None,\n",
       "                       min_samples_leaf=1, min_samples_split=2,\n",
       "                       min_weight_fraction_leaf=0.0, n_estimators=50,\n",
       "                       n_jobs=None, oob_score=False, random_state=None,\n",
       "                       verbose=0, warm_start=False)"
      ]
     },
     "execution_count": 63,
     "metadata": {},
     "output_type": "execute_result"
    }
   ],
   "source": [
    "# Best estimator\n",
    "grid_search.best_estimator_"
   ]
  },
  {
   "cell_type": "code",
   "execution_count": 64,
   "metadata": {
    "collapsed": true
   },
   "outputs": [
    {
     "data": {
      "text/plain": [
       "{'mean_fit_time': array([0.03125577, 0.09528608, 0.1570745 , 0.0464026 , 0.12433238,\n",
       "        0.20628419, 0.06250815, 0.16909184, 0.28815198, 0.06562929,\n",
       "        0.19063787, 0.3125298 , 0.05534244, 0.1312582 , 0.25627055,\n",
       "        0.06875544, 0.17348232, 0.34064879, 0.09063225, 0.22038546,\n",
       "        0.44576006, 0.10000806, 0.2468998 , 0.49066172]),\n",
       " 'std_fit_time': array([7.26515829e-06, 1.91726106e-03, 8.54266920e-03, 6.94015627e-03,\n",
       "        8.09373394e-03, 6.52666149e-03, 6.89256525e-06, 1.01691347e-02,\n",
       "        1.25485323e-02, 6.25333827e-03, 6.24595144e-03, 9.88664525e-03,\n",
       "        6.25419914e-03, 7.65731059e-03, 7.65364346e-03, 7.65567145e-03,\n",
       "        2.07050456e-03, 6.24891528e-03, 6.25017154e-03, 1.04061899e-02,\n",
       "        8.40055230e-03, 7.65547306e-03, 6.24642605e-03, 1.24960135e-02]),\n",
       " 'mean_score_time': array([0.00312204, 0.01117764, 0.0146009 , 0.00060058, 0.00652857,\n",
       "        0.01562924, 0.        , 0.00574274, 0.01829495, 0.00312533,\n",
       "        0.00312529, 0.01562395, 0.00060053, 0.00312529, 0.01562886,\n",
       "        0.        , 0.00472746, 0.01562881, 0.        , 0.00785456,\n",
       "        0.01610351, 0.        , 0.0062479 , 0.01562653]),\n",
       " 'std_score_time': array([6.24408722e-03, 6.14852020e-03, 1.77655243e-03, 1.20115280e-03,\n",
       "        5.93886656e-03, 4.56221287e-06, 0.00000000e+00, 5.81857947e-03,\n",
       "        5.32286426e-03, 6.25066757e-03, 6.25057220e-03, 7.57345914e-06,\n",
       "        1.20105743e-03, 6.25057220e-03, 4.87307979e-06, 0.00000000e+00,\n",
       "        6.27092017e-03, 4.88845306e-06, 0.00000000e+00, 6.98873751e-03,\n",
       "        1.86805503e-03, 0.00000000e+00, 7.65208662e-03, 1.07849561e-05]),\n",
       " 'param_max_features': masked_array(data=[2, 2, 2, 4, 4, 4, 7, 7, 7, 8, 8, 8, 3, 3, 3, 5, 5, 5,\n",
       "                    7, 7, 7, 8, 8, 8],\n",
       "              mask=[False, False, False, False, False, False, False, False,\n",
       "                    False, False, False, False, False, False, False, False,\n",
       "                    False, False, False, False, False, False, False, False],\n",
       "        fill_value='?',\n",
       "             dtype=object),\n",
       " 'param_n_estimators': masked_array(data=[10, 30, 50, 10, 30, 50, 10, 30, 50, 10, 30, 50, 10, 25,\n",
       "                    50, 10, 25, 50, 10, 25, 50, 10, 25, 50],\n",
       "              mask=[False, False, False, False, False, False, False, False,\n",
       "                    False, False, False, False, False, False, False, False,\n",
       "                    False, False, False, False, False, False, False, False],\n",
       "        fill_value='?',\n",
       "             dtype=object),\n",
       " 'param_bootstrap': masked_array(data=[--, --, --, --, --, --, --, --, --, --, --, --, False,\n",
       "                    False, False, False, False, False, False, False, False,\n",
       "                    False, False, False],\n",
       "              mask=[ True,  True,  True,  True,  True,  True,  True,  True,\n",
       "                     True,  True,  True,  True, False, False, False, False,\n",
       "                    False, False, False, False, False, False, False, False],\n",
       "        fill_value='?',\n",
       "             dtype=object),\n",
       " 'params': [{'max_features': 2, 'n_estimators': 10},\n",
       "  {'max_features': 2, 'n_estimators': 30},\n",
       "  {'max_features': 2, 'n_estimators': 50},\n",
       "  {'max_features': 4, 'n_estimators': 10},\n",
       "  {'max_features': 4, 'n_estimators': 30},\n",
       "  {'max_features': 4, 'n_estimators': 50},\n",
       "  {'max_features': 7, 'n_estimators': 10},\n",
       "  {'max_features': 7, 'n_estimators': 30},\n",
       "  {'max_features': 7, 'n_estimators': 50},\n",
       "  {'max_features': 8, 'n_estimators': 10},\n",
       "  {'max_features': 8, 'n_estimators': 30},\n",
       "  {'max_features': 8, 'n_estimators': 50},\n",
       "  {'bootstrap': False, 'max_features': 3, 'n_estimators': 10},\n",
       "  {'bootstrap': False, 'max_features': 3, 'n_estimators': 25},\n",
       "  {'bootstrap': False, 'max_features': 3, 'n_estimators': 50},\n",
       "  {'bootstrap': False, 'max_features': 5, 'n_estimators': 10},\n",
       "  {'bootstrap': False, 'max_features': 5, 'n_estimators': 25},\n",
       "  {'bootstrap': False, 'max_features': 5, 'n_estimators': 50},\n",
       "  {'bootstrap': False, 'max_features': 7, 'n_estimators': 10},\n",
       "  {'bootstrap': False, 'max_features': 7, 'n_estimators': 25},\n",
       "  {'bootstrap': False, 'max_features': 7, 'n_estimators': 50},\n",
       "  {'bootstrap': False, 'max_features': 8, 'n_estimators': 10},\n",
       "  {'bootstrap': False, 'max_features': 8, 'n_estimators': 25},\n",
       "  {'bootstrap': False, 'max_features': 8, 'n_estimators': 50}],\n",
       " 'split0_test_score': array([0.97842503, 0.97950378, 0.9811219 , 0.98220065, 0.98166127,\n",
       "        0.98220065, 0.9832794 , 0.98489752, 0.98489752, 0.98166127,\n",
       "        0.98381877, 0.9832794 , 0.97842503, 0.9832794 , 0.98220065,\n",
       "        0.9832794 , 0.98489752, 0.98435814, 0.98274002, 0.98381877,\n",
       "        0.98381877, 0.9832794 , 0.98435814, 0.98489752]),\n",
       " 'split1_test_score': array([0.97733405, 0.97517539, 0.97463573, 0.97949271, 0.97895305,\n",
       "        0.97949271, 0.97895305, 0.98003238, 0.97949271, 0.97949271,\n",
       "        0.98003238, 0.98003238, 0.97787372, 0.97841338, 0.97841338,\n",
       "        0.97949271, 0.97895305, 0.98057205, 0.97949271, 0.97895305,\n",
       "        0.98057205, 0.98003238, 0.98057205, 0.98057205]),\n",
       " 'split2_test_score': array([0.97517539, 0.97895305, 0.97733405, 0.97949271, 0.98165138,\n",
       "        0.98165138, 0.98057205, 0.98111171, 0.98273071, 0.98219104,\n",
       "        0.98219104, 0.98381004, 0.97625472, 0.98057205, 0.97841338,\n",
       "        0.98057205, 0.98165138, 0.98273071, 0.97895305, 0.98111171,\n",
       "        0.98381004, 0.98111171, 0.98111171, 0.98111171]),\n",
       " 'split3_test_score': array([0.98650836, 0.98704803, 0.98650836, 0.9859687 , 0.98704803,\n",
       "        0.98866703, 0.9875877 , 0.98812736, 0.98812736, 0.9875877 ,\n",
       "        0.98812736, 0.9875877 , 0.9843497 , 0.98704803, 0.98650836,\n",
       "        0.98650836, 0.9875877 , 0.98866703, 0.98812736, 0.9875877 ,\n",
       "        0.98704803, 0.98542903, 0.98704803, 0.98812736]),\n",
       " 'split4_test_score': array([0.97570194, 0.98110151, 0.98110151, 0.98272138, 0.98650108,\n",
       "        0.98488121, 0.98704104, 0.98812095, 0.98650108, 0.98758099,\n",
       "        0.98812095, 0.98812095, 0.98272138, 0.98434125, 0.9838013 ,\n",
       "        0.98650108, 0.98704104, 0.98596112, 0.98758099, 0.98812095,\n",
       "        0.98758099, 0.98596112, 0.98812095, 0.98758099]),\n",
       " 'mean_test_score': array([0.97862925, 0.98035618, 0.98014031, 0.98197518, 0.98316244,\n",
       "        0.98337831, 0.98348624, 0.98445764, 0.9843497 , 0.9837021 ,\n",
       "        0.98445764, 0.98456557, 0.97992445, 0.98273071, 0.98186724,\n",
       "        0.98327037, 0.9840259 , 0.98445764, 0.98337831, 0.98391797,\n",
       "        0.98456557, 0.98316244, 0.98424177, 0.98445764]),\n",
       " 'std_test_score': array([0.00410593, 0.00386969, 0.00401535, 0.00240337, 0.00311433,\n",
       "        0.00315264, 0.0034216 , 0.00340151, 0.00301358, 0.0032956 ,\n",
       "        0.00322516, 0.00298473, 0.00307647, 0.0029944 , 0.00313841,\n",
       "        0.00291438, 0.00328344, 0.00275928, 0.00388059, 0.00356813,\n",
       "        0.00254274, 0.00232303, 0.0030395 , 0.00315289]),\n",
       " 'rank_test_score': array([24, 21, 22, 19, 16, 13, 12,  3,  7, 11,  3,  1, 23, 18, 20, 15,  9,\n",
       "         3, 13, 10,  1, 16,  8,  3])}"
      ]
     },
     "execution_count": 64,
     "metadata": {},
     "output_type": "execute_result"
    }
   ],
   "source": [
    "#Results\n",
    "grid_search.cv_results_"
   ]
  },
  {
   "cell_type": "code",
   "execution_count": 65,
   "metadata": {},
   "outputs": [
    {
     "data": {
      "text/plain": [
       "0.9845655693470049"
      ]
     },
     "execution_count": 65,
     "metadata": {},
     "output_type": "execute_result"
    }
   ],
   "source": [
    "#Best score\n",
    "grid_search.best_score_"
   ]
  },
  {
   "cell_type": "code",
   "execution_count": 66,
   "metadata": {
    "collapsed": true
   },
   "outputs": [
    {
     "name": "stdout",
     "output_type": "stream",
     "text": [
      "0.9786292498650836 {'max_features': 2, 'n_estimators': 10}\n",
      "0.9803561791689153 {'max_features': 2, 'n_estimators': 30}\n",
      "0.9801403130059363 {'max_features': 2, 'n_estimators': 50}\n",
      "0.9819751753912574 {'max_features': 4, 'n_estimators': 10}\n",
      "0.9831624392876417 {'max_features': 4, 'n_estimators': 30}\n",
      "0.9833783054506207 {'max_features': 4, 'n_estimators': 50}\n",
      "0.9834862385321101 {'max_features': 7, 'n_estimators': 10}\n",
      "0.9844576362655154 {'max_features': 7, 'n_estimators': 30}\n",
      "0.9843497031840259 {'max_features': 7, 'n_estimators': 50}\n",
      "0.983702104695089 {'max_features': 8, 'n_estimators': 10}\n",
      "0.9844576362655154 {'max_features': 8, 'n_estimators': 30}\n",
      "0.9845655693470049 {'max_features': 8, 'n_estimators': 50}\n",
      "0.9799244468429573 {'bootstrap': False, 'max_features': 3, 'n_estimators': 10}\n",
      "0.9827307069616837 {'bootstrap': False, 'max_features': 3, 'n_estimators': 25}\n",
      "0.981867242309768 {'bootstrap': False, 'max_features': 3, 'n_estimators': 50}\n",
      "0.9832703723691312 {'bootstrap': False, 'max_features': 5, 'n_estimators': 10}\n",
      "0.9840259039395575 {'bootstrap': False, 'max_features': 5, 'n_estimators': 25}\n",
      "0.9844576362655154 {'bootstrap': False, 'max_features': 5, 'n_estimators': 50}\n",
      "0.9833783054506207 {'bootstrap': False, 'max_features': 7, 'n_estimators': 10}\n",
      "0.983917970858068 {'bootstrap': False, 'max_features': 7, 'n_estimators': 25}\n",
      "0.9845655693470049 {'bootstrap': False, 'max_features': 7, 'n_estimators': 50}\n",
      "0.9831624392876417 {'bootstrap': False, 'max_features': 8, 'n_estimators': 10}\n",
      "0.9842417701025364 {'bootstrap': False, 'max_features': 8, 'n_estimators': 25}\n",
      "0.9844576362655154 {'bootstrap': False, 'max_features': 8, 'n_estimators': 50}\n"
     ]
    }
   ],
   "source": [
    "# Evaluation score\n",
    "cv_res = grid_search.cv_results_\n",
    "for mean_score, params in zip(cv_res['mean_test_score'], cv_res['params']):\n",
    "    print(mean_score, params)"
   ]
  },
  {
   "cell_type": "code",
   "execution_count": 67,
   "metadata": {
    "collapsed": true
   },
   "outputs": [
    {
     "data": {
      "text/html": [
       "<div>\n",
       "<style scoped>\n",
       "    .dataframe tbody tr th:only-of-type {\n",
       "        vertical-align: middle;\n",
       "    }\n",
       "\n",
       "    .dataframe tbody tr th {\n",
       "        vertical-align: top;\n",
       "    }\n",
       "\n",
       "    .dataframe thead th {\n",
       "        text-align: right;\n",
       "    }\n",
       "</style>\n",
       "<table border=\"1\" class=\"dataframe\">\n",
       "  <thead>\n",
       "    <tr style=\"text-align: right;\">\n",
       "      <th></th>\n",
       "      <th>mean_fit_time</th>\n",
       "      <th>std_fit_time</th>\n",
       "      <th>mean_score_time</th>\n",
       "      <th>std_score_time</th>\n",
       "      <th>param_max_features</th>\n",
       "      <th>param_n_estimators</th>\n",
       "      <th>param_bootstrap</th>\n",
       "      <th>params</th>\n",
       "      <th>split0_test_score</th>\n",
       "      <th>split1_test_score</th>\n",
       "      <th>split2_test_score</th>\n",
       "      <th>split3_test_score</th>\n",
       "      <th>split4_test_score</th>\n",
       "      <th>mean_test_score</th>\n",
       "      <th>std_test_score</th>\n",
       "      <th>rank_test_score</th>\n",
       "    </tr>\n",
       "  </thead>\n",
       "  <tbody>\n",
       "    <tr>\n",
       "      <td>0</td>\n",
       "      <td>0.031256</td>\n",
       "      <td>0.000007</td>\n",
       "      <td>0.003122</td>\n",
       "      <td>0.006244</td>\n",
       "      <td>2</td>\n",
       "      <td>10</td>\n",
       "      <td>NaN</td>\n",
       "      <td>{'max_features': 2, 'n_estimators': 10}</td>\n",
       "      <td>0.978425</td>\n",
       "      <td>0.977334</td>\n",
       "      <td>0.975175</td>\n",
       "      <td>0.986508</td>\n",
       "      <td>0.975702</td>\n",
       "      <td>0.978629</td>\n",
       "      <td>0.004106</td>\n",
       "      <td>24</td>\n",
       "    </tr>\n",
       "    <tr>\n",
       "      <td>1</td>\n",
       "      <td>0.095286</td>\n",
       "      <td>0.001917</td>\n",
       "      <td>0.011178</td>\n",
       "      <td>0.006149</td>\n",
       "      <td>2</td>\n",
       "      <td>30</td>\n",
       "      <td>NaN</td>\n",
       "      <td>{'max_features': 2, 'n_estimators': 30}</td>\n",
       "      <td>0.979504</td>\n",
       "      <td>0.975175</td>\n",
       "      <td>0.978953</td>\n",
       "      <td>0.987048</td>\n",
       "      <td>0.981102</td>\n",
       "      <td>0.980356</td>\n",
       "      <td>0.003870</td>\n",
       "      <td>21</td>\n",
       "    </tr>\n",
       "    <tr>\n",
       "      <td>2</td>\n",
       "      <td>0.157074</td>\n",
       "      <td>0.008543</td>\n",
       "      <td>0.014601</td>\n",
       "      <td>0.001777</td>\n",
       "      <td>2</td>\n",
       "      <td>50</td>\n",
       "      <td>NaN</td>\n",
       "      <td>{'max_features': 2, 'n_estimators': 50}</td>\n",
       "      <td>0.981122</td>\n",
       "      <td>0.974636</td>\n",
       "      <td>0.977334</td>\n",
       "      <td>0.986508</td>\n",
       "      <td>0.981102</td>\n",
       "      <td>0.980140</td>\n",
       "      <td>0.004015</td>\n",
       "      <td>22</td>\n",
       "    </tr>\n",
       "    <tr>\n",
       "      <td>3</td>\n",
       "      <td>0.046403</td>\n",
       "      <td>0.006940</td>\n",
       "      <td>0.000601</td>\n",
       "      <td>0.001201</td>\n",
       "      <td>4</td>\n",
       "      <td>10</td>\n",
       "      <td>NaN</td>\n",
       "      <td>{'max_features': 4, 'n_estimators': 10}</td>\n",
       "      <td>0.982201</td>\n",
       "      <td>0.979493</td>\n",
       "      <td>0.979493</td>\n",
       "      <td>0.985969</td>\n",
       "      <td>0.982721</td>\n",
       "      <td>0.981975</td>\n",
       "      <td>0.002403</td>\n",
       "      <td>19</td>\n",
       "    </tr>\n",
       "    <tr>\n",
       "      <td>4</td>\n",
       "      <td>0.124332</td>\n",
       "      <td>0.008094</td>\n",
       "      <td>0.006529</td>\n",
       "      <td>0.005939</td>\n",
       "      <td>4</td>\n",
       "      <td>30</td>\n",
       "      <td>NaN</td>\n",
       "      <td>{'max_features': 4, 'n_estimators': 30}</td>\n",
       "      <td>0.981661</td>\n",
       "      <td>0.978953</td>\n",
       "      <td>0.981651</td>\n",
       "      <td>0.987048</td>\n",
       "      <td>0.986501</td>\n",
       "      <td>0.983162</td>\n",
       "      <td>0.003114</td>\n",
       "      <td>16</td>\n",
       "    </tr>\n",
       "    <tr>\n",
       "      <td>5</td>\n",
       "      <td>0.206284</td>\n",
       "      <td>0.006527</td>\n",
       "      <td>0.015629</td>\n",
       "      <td>0.000005</td>\n",
       "      <td>4</td>\n",
       "      <td>50</td>\n",
       "      <td>NaN</td>\n",
       "      <td>{'max_features': 4, 'n_estimators': 50}</td>\n",
       "      <td>0.982201</td>\n",
       "      <td>0.979493</td>\n",
       "      <td>0.981651</td>\n",
       "      <td>0.988667</td>\n",
       "      <td>0.984881</td>\n",
       "      <td>0.983378</td>\n",
       "      <td>0.003153</td>\n",
       "      <td>13</td>\n",
       "    </tr>\n",
       "    <tr>\n",
       "      <td>6</td>\n",
       "      <td>0.062508</td>\n",
       "      <td>0.000007</td>\n",
       "      <td>0.000000</td>\n",
       "      <td>0.000000</td>\n",
       "      <td>7</td>\n",
       "      <td>10</td>\n",
       "      <td>NaN</td>\n",
       "      <td>{'max_features': 7, 'n_estimators': 10}</td>\n",
       "      <td>0.983279</td>\n",
       "      <td>0.978953</td>\n",
       "      <td>0.980572</td>\n",
       "      <td>0.987588</td>\n",
       "      <td>0.987041</td>\n",
       "      <td>0.983486</td>\n",
       "      <td>0.003422</td>\n",
       "      <td>12</td>\n",
       "    </tr>\n",
       "    <tr>\n",
       "      <td>7</td>\n",
       "      <td>0.169092</td>\n",
       "      <td>0.010169</td>\n",
       "      <td>0.005743</td>\n",
       "      <td>0.005819</td>\n",
       "      <td>7</td>\n",
       "      <td>30</td>\n",
       "      <td>NaN</td>\n",
       "      <td>{'max_features': 7, 'n_estimators': 30}</td>\n",
       "      <td>0.984898</td>\n",
       "      <td>0.980032</td>\n",
       "      <td>0.981112</td>\n",
       "      <td>0.988127</td>\n",
       "      <td>0.988121</td>\n",
       "      <td>0.984458</td>\n",
       "      <td>0.003402</td>\n",
       "      <td>3</td>\n",
       "    </tr>\n",
       "    <tr>\n",
       "      <td>8</td>\n",
       "      <td>0.288152</td>\n",
       "      <td>0.012549</td>\n",
       "      <td>0.018295</td>\n",
       "      <td>0.005323</td>\n",
       "      <td>7</td>\n",
       "      <td>50</td>\n",
       "      <td>NaN</td>\n",
       "      <td>{'max_features': 7, 'n_estimators': 50}</td>\n",
       "      <td>0.984898</td>\n",
       "      <td>0.979493</td>\n",
       "      <td>0.982731</td>\n",
       "      <td>0.988127</td>\n",
       "      <td>0.986501</td>\n",
       "      <td>0.984350</td>\n",
       "      <td>0.003014</td>\n",
       "      <td>7</td>\n",
       "    </tr>\n",
       "    <tr>\n",
       "      <td>9</td>\n",
       "      <td>0.065629</td>\n",
       "      <td>0.006253</td>\n",
       "      <td>0.003125</td>\n",
       "      <td>0.006251</td>\n",
       "      <td>8</td>\n",
       "      <td>10</td>\n",
       "      <td>NaN</td>\n",
       "      <td>{'max_features': 8, 'n_estimators': 10}</td>\n",
       "      <td>0.981661</td>\n",
       "      <td>0.979493</td>\n",
       "      <td>0.982191</td>\n",
       "      <td>0.987588</td>\n",
       "      <td>0.987581</td>\n",
       "      <td>0.983702</td>\n",
       "      <td>0.003296</td>\n",
       "      <td>11</td>\n",
       "    </tr>\n",
       "    <tr>\n",
       "      <td>10</td>\n",
       "      <td>0.190638</td>\n",
       "      <td>0.006246</td>\n",
       "      <td>0.003125</td>\n",
       "      <td>0.006251</td>\n",
       "      <td>8</td>\n",
       "      <td>30</td>\n",
       "      <td>NaN</td>\n",
       "      <td>{'max_features': 8, 'n_estimators': 30}</td>\n",
       "      <td>0.983819</td>\n",
       "      <td>0.980032</td>\n",
       "      <td>0.982191</td>\n",
       "      <td>0.988127</td>\n",
       "      <td>0.988121</td>\n",
       "      <td>0.984458</td>\n",
       "      <td>0.003225</td>\n",
       "      <td>3</td>\n",
       "    </tr>\n",
       "    <tr>\n",
       "      <td>11</td>\n",
       "      <td>0.312530</td>\n",
       "      <td>0.009887</td>\n",
       "      <td>0.015624</td>\n",
       "      <td>0.000008</td>\n",
       "      <td>8</td>\n",
       "      <td>50</td>\n",
       "      <td>NaN</td>\n",
       "      <td>{'max_features': 8, 'n_estimators': 50}</td>\n",
       "      <td>0.983279</td>\n",
       "      <td>0.980032</td>\n",
       "      <td>0.983810</td>\n",
       "      <td>0.987588</td>\n",
       "      <td>0.988121</td>\n",
       "      <td>0.984566</td>\n",
       "      <td>0.002985</td>\n",
       "      <td>1</td>\n",
       "    </tr>\n",
       "    <tr>\n",
       "      <td>12</td>\n",
       "      <td>0.055342</td>\n",
       "      <td>0.006254</td>\n",
       "      <td>0.000601</td>\n",
       "      <td>0.001201</td>\n",
       "      <td>3</td>\n",
       "      <td>10</td>\n",
       "      <td>False</td>\n",
       "      <td>{'bootstrap': False, 'max_features': 3, 'n_est...</td>\n",
       "      <td>0.978425</td>\n",
       "      <td>0.977874</td>\n",
       "      <td>0.976255</td>\n",
       "      <td>0.984350</td>\n",
       "      <td>0.982721</td>\n",
       "      <td>0.979924</td>\n",
       "      <td>0.003076</td>\n",
       "      <td>23</td>\n",
       "    </tr>\n",
       "    <tr>\n",
       "      <td>13</td>\n",
       "      <td>0.131258</td>\n",
       "      <td>0.007657</td>\n",
       "      <td>0.003125</td>\n",
       "      <td>0.006251</td>\n",
       "      <td>3</td>\n",
       "      <td>25</td>\n",
       "      <td>False</td>\n",
       "      <td>{'bootstrap': False, 'max_features': 3, 'n_est...</td>\n",
       "      <td>0.983279</td>\n",
       "      <td>0.978413</td>\n",
       "      <td>0.980572</td>\n",
       "      <td>0.987048</td>\n",
       "      <td>0.984341</td>\n",
       "      <td>0.982731</td>\n",
       "      <td>0.002994</td>\n",
       "      <td>18</td>\n",
       "    </tr>\n",
       "    <tr>\n",
       "      <td>14</td>\n",
       "      <td>0.256271</td>\n",
       "      <td>0.007654</td>\n",
       "      <td>0.015629</td>\n",
       "      <td>0.000005</td>\n",
       "      <td>3</td>\n",
       "      <td>50</td>\n",
       "      <td>False</td>\n",
       "      <td>{'bootstrap': False, 'max_features': 3, 'n_est...</td>\n",
       "      <td>0.982201</td>\n",
       "      <td>0.978413</td>\n",
       "      <td>0.978413</td>\n",
       "      <td>0.986508</td>\n",
       "      <td>0.983801</td>\n",
       "      <td>0.981867</td>\n",
       "      <td>0.003138</td>\n",
       "      <td>20</td>\n",
       "    </tr>\n",
       "    <tr>\n",
       "      <td>15</td>\n",
       "      <td>0.068755</td>\n",
       "      <td>0.007656</td>\n",
       "      <td>0.000000</td>\n",
       "      <td>0.000000</td>\n",
       "      <td>5</td>\n",
       "      <td>10</td>\n",
       "      <td>False</td>\n",
       "      <td>{'bootstrap': False, 'max_features': 5, 'n_est...</td>\n",
       "      <td>0.983279</td>\n",
       "      <td>0.979493</td>\n",
       "      <td>0.980572</td>\n",
       "      <td>0.986508</td>\n",
       "      <td>0.986501</td>\n",
       "      <td>0.983270</td>\n",
       "      <td>0.002914</td>\n",
       "      <td>15</td>\n",
       "    </tr>\n",
       "    <tr>\n",
       "      <td>16</td>\n",
       "      <td>0.173482</td>\n",
       "      <td>0.002071</td>\n",
       "      <td>0.004727</td>\n",
       "      <td>0.006271</td>\n",
       "      <td>5</td>\n",
       "      <td>25</td>\n",
       "      <td>False</td>\n",
       "      <td>{'bootstrap': False, 'max_features': 5, 'n_est...</td>\n",
       "      <td>0.984898</td>\n",
       "      <td>0.978953</td>\n",
       "      <td>0.981651</td>\n",
       "      <td>0.987588</td>\n",
       "      <td>0.987041</td>\n",
       "      <td>0.984026</td>\n",
       "      <td>0.003283</td>\n",
       "      <td>9</td>\n",
       "    </tr>\n",
       "    <tr>\n",
       "      <td>17</td>\n",
       "      <td>0.340649</td>\n",
       "      <td>0.006249</td>\n",
       "      <td>0.015629</td>\n",
       "      <td>0.000005</td>\n",
       "      <td>5</td>\n",
       "      <td>50</td>\n",
       "      <td>False</td>\n",
       "      <td>{'bootstrap': False, 'max_features': 5, 'n_est...</td>\n",
       "      <td>0.984358</td>\n",
       "      <td>0.980572</td>\n",
       "      <td>0.982731</td>\n",
       "      <td>0.988667</td>\n",
       "      <td>0.985961</td>\n",
       "      <td>0.984458</td>\n",
       "      <td>0.002759</td>\n",
       "      <td>3</td>\n",
       "    </tr>\n",
       "    <tr>\n",
       "      <td>18</td>\n",
       "      <td>0.090632</td>\n",
       "      <td>0.006250</td>\n",
       "      <td>0.000000</td>\n",
       "      <td>0.000000</td>\n",
       "      <td>7</td>\n",
       "      <td>10</td>\n",
       "      <td>False</td>\n",
       "      <td>{'bootstrap': False, 'max_features': 7, 'n_est...</td>\n",
       "      <td>0.982740</td>\n",
       "      <td>0.979493</td>\n",
       "      <td>0.978953</td>\n",
       "      <td>0.988127</td>\n",
       "      <td>0.987581</td>\n",
       "      <td>0.983378</td>\n",
       "      <td>0.003881</td>\n",
       "      <td>13</td>\n",
       "    </tr>\n",
       "    <tr>\n",
       "      <td>19</td>\n",
       "      <td>0.220385</td>\n",
       "      <td>0.010406</td>\n",
       "      <td>0.007855</td>\n",
       "      <td>0.006989</td>\n",
       "      <td>7</td>\n",
       "      <td>25</td>\n",
       "      <td>False</td>\n",
       "      <td>{'bootstrap': False, 'max_features': 7, 'n_est...</td>\n",
       "      <td>0.983819</td>\n",
       "      <td>0.978953</td>\n",
       "      <td>0.981112</td>\n",
       "      <td>0.987588</td>\n",
       "      <td>0.988121</td>\n",
       "      <td>0.983918</td>\n",
       "      <td>0.003568</td>\n",
       "      <td>10</td>\n",
       "    </tr>\n",
       "    <tr>\n",
       "      <td>20</td>\n",
       "      <td>0.445760</td>\n",
       "      <td>0.008401</td>\n",
       "      <td>0.016104</td>\n",
       "      <td>0.001868</td>\n",
       "      <td>7</td>\n",
       "      <td>50</td>\n",
       "      <td>False</td>\n",
       "      <td>{'bootstrap': False, 'max_features': 7, 'n_est...</td>\n",
       "      <td>0.983819</td>\n",
       "      <td>0.980572</td>\n",
       "      <td>0.983810</td>\n",
       "      <td>0.987048</td>\n",
       "      <td>0.987581</td>\n",
       "      <td>0.984566</td>\n",
       "      <td>0.002543</td>\n",
       "      <td>1</td>\n",
       "    </tr>\n",
       "    <tr>\n",
       "      <td>21</td>\n",
       "      <td>0.100008</td>\n",
       "      <td>0.007655</td>\n",
       "      <td>0.000000</td>\n",
       "      <td>0.000000</td>\n",
       "      <td>8</td>\n",
       "      <td>10</td>\n",
       "      <td>False</td>\n",
       "      <td>{'bootstrap': False, 'max_features': 8, 'n_est...</td>\n",
       "      <td>0.983279</td>\n",
       "      <td>0.980032</td>\n",
       "      <td>0.981112</td>\n",
       "      <td>0.985429</td>\n",
       "      <td>0.985961</td>\n",
       "      <td>0.983162</td>\n",
       "      <td>0.002323</td>\n",
       "      <td>16</td>\n",
       "    </tr>\n",
       "    <tr>\n",
       "      <td>22</td>\n",
       "      <td>0.246900</td>\n",
       "      <td>0.006246</td>\n",
       "      <td>0.006248</td>\n",
       "      <td>0.007652</td>\n",
       "      <td>8</td>\n",
       "      <td>25</td>\n",
       "      <td>False</td>\n",
       "      <td>{'bootstrap': False, 'max_features': 8, 'n_est...</td>\n",
       "      <td>0.984358</td>\n",
       "      <td>0.980572</td>\n",
       "      <td>0.981112</td>\n",
       "      <td>0.987048</td>\n",
       "      <td>0.988121</td>\n",
       "      <td>0.984242</td>\n",
       "      <td>0.003039</td>\n",
       "      <td>8</td>\n",
       "    </tr>\n",
       "    <tr>\n",
       "      <td>23</td>\n",
       "      <td>0.490662</td>\n",
       "      <td>0.012496</td>\n",
       "      <td>0.015627</td>\n",
       "      <td>0.000011</td>\n",
       "      <td>8</td>\n",
       "      <td>50</td>\n",
       "      <td>False</td>\n",
       "      <td>{'bootstrap': False, 'max_features': 8, 'n_est...</td>\n",
       "      <td>0.984898</td>\n",
       "      <td>0.980572</td>\n",
       "      <td>0.981112</td>\n",
       "      <td>0.988127</td>\n",
       "      <td>0.987581</td>\n",
       "      <td>0.984458</td>\n",
       "      <td>0.003153</td>\n",
       "      <td>3</td>\n",
       "    </tr>\n",
       "  </tbody>\n",
       "</table>\n",
       "</div>"
      ],
      "text/plain": [
       "    mean_fit_time  std_fit_time  mean_score_time  std_score_time  \\\n",
       "0        0.031256      0.000007         0.003122        0.006244   \n",
       "1        0.095286      0.001917         0.011178        0.006149   \n",
       "2        0.157074      0.008543         0.014601        0.001777   \n",
       "3        0.046403      0.006940         0.000601        0.001201   \n",
       "4        0.124332      0.008094         0.006529        0.005939   \n",
       "5        0.206284      0.006527         0.015629        0.000005   \n",
       "6        0.062508      0.000007         0.000000        0.000000   \n",
       "7        0.169092      0.010169         0.005743        0.005819   \n",
       "8        0.288152      0.012549         0.018295        0.005323   \n",
       "9        0.065629      0.006253         0.003125        0.006251   \n",
       "10       0.190638      0.006246         0.003125        0.006251   \n",
       "11       0.312530      0.009887         0.015624        0.000008   \n",
       "12       0.055342      0.006254         0.000601        0.001201   \n",
       "13       0.131258      0.007657         0.003125        0.006251   \n",
       "14       0.256271      0.007654         0.015629        0.000005   \n",
       "15       0.068755      0.007656         0.000000        0.000000   \n",
       "16       0.173482      0.002071         0.004727        0.006271   \n",
       "17       0.340649      0.006249         0.015629        0.000005   \n",
       "18       0.090632      0.006250         0.000000        0.000000   \n",
       "19       0.220385      0.010406         0.007855        0.006989   \n",
       "20       0.445760      0.008401         0.016104        0.001868   \n",
       "21       0.100008      0.007655         0.000000        0.000000   \n",
       "22       0.246900      0.006246         0.006248        0.007652   \n",
       "23       0.490662      0.012496         0.015627        0.000011   \n",
       "\n",
       "   param_max_features param_n_estimators param_bootstrap  \\\n",
       "0                   2                 10             NaN   \n",
       "1                   2                 30             NaN   \n",
       "2                   2                 50             NaN   \n",
       "3                   4                 10             NaN   \n",
       "4                   4                 30             NaN   \n",
       "5                   4                 50             NaN   \n",
       "6                   7                 10             NaN   \n",
       "7                   7                 30             NaN   \n",
       "8                   7                 50             NaN   \n",
       "9                   8                 10             NaN   \n",
       "10                  8                 30             NaN   \n",
       "11                  8                 50             NaN   \n",
       "12                  3                 10           False   \n",
       "13                  3                 25           False   \n",
       "14                  3                 50           False   \n",
       "15                  5                 10           False   \n",
       "16                  5                 25           False   \n",
       "17                  5                 50           False   \n",
       "18                  7                 10           False   \n",
       "19                  7                 25           False   \n",
       "20                  7                 50           False   \n",
       "21                  8                 10           False   \n",
       "22                  8                 25           False   \n",
       "23                  8                 50           False   \n",
       "\n",
       "                                               params  split0_test_score  \\\n",
       "0             {'max_features': 2, 'n_estimators': 10}           0.978425   \n",
       "1             {'max_features': 2, 'n_estimators': 30}           0.979504   \n",
       "2             {'max_features': 2, 'n_estimators': 50}           0.981122   \n",
       "3             {'max_features': 4, 'n_estimators': 10}           0.982201   \n",
       "4             {'max_features': 4, 'n_estimators': 30}           0.981661   \n",
       "5             {'max_features': 4, 'n_estimators': 50}           0.982201   \n",
       "6             {'max_features': 7, 'n_estimators': 10}           0.983279   \n",
       "7             {'max_features': 7, 'n_estimators': 30}           0.984898   \n",
       "8             {'max_features': 7, 'n_estimators': 50}           0.984898   \n",
       "9             {'max_features': 8, 'n_estimators': 10}           0.981661   \n",
       "10            {'max_features': 8, 'n_estimators': 30}           0.983819   \n",
       "11            {'max_features': 8, 'n_estimators': 50}           0.983279   \n",
       "12  {'bootstrap': False, 'max_features': 3, 'n_est...           0.978425   \n",
       "13  {'bootstrap': False, 'max_features': 3, 'n_est...           0.983279   \n",
       "14  {'bootstrap': False, 'max_features': 3, 'n_est...           0.982201   \n",
       "15  {'bootstrap': False, 'max_features': 5, 'n_est...           0.983279   \n",
       "16  {'bootstrap': False, 'max_features': 5, 'n_est...           0.984898   \n",
       "17  {'bootstrap': False, 'max_features': 5, 'n_est...           0.984358   \n",
       "18  {'bootstrap': False, 'max_features': 7, 'n_est...           0.982740   \n",
       "19  {'bootstrap': False, 'max_features': 7, 'n_est...           0.983819   \n",
       "20  {'bootstrap': False, 'max_features': 7, 'n_est...           0.983819   \n",
       "21  {'bootstrap': False, 'max_features': 8, 'n_est...           0.983279   \n",
       "22  {'bootstrap': False, 'max_features': 8, 'n_est...           0.984358   \n",
       "23  {'bootstrap': False, 'max_features': 8, 'n_est...           0.984898   \n",
       "\n",
       "    split1_test_score  split2_test_score  split3_test_score  \\\n",
       "0            0.977334           0.975175           0.986508   \n",
       "1            0.975175           0.978953           0.987048   \n",
       "2            0.974636           0.977334           0.986508   \n",
       "3            0.979493           0.979493           0.985969   \n",
       "4            0.978953           0.981651           0.987048   \n",
       "5            0.979493           0.981651           0.988667   \n",
       "6            0.978953           0.980572           0.987588   \n",
       "7            0.980032           0.981112           0.988127   \n",
       "8            0.979493           0.982731           0.988127   \n",
       "9            0.979493           0.982191           0.987588   \n",
       "10           0.980032           0.982191           0.988127   \n",
       "11           0.980032           0.983810           0.987588   \n",
       "12           0.977874           0.976255           0.984350   \n",
       "13           0.978413           0.980572           0.987048   \n",
       "14           0.978413           0.978413           0.986508   \n",
       "15           0.979493           0.980572           0.986508   \n",
       "16           0.978953           0.981651           0.987588   \n",
       "17           0.980572           0.982731           0.988667   \n",
       "18           0.979493           0.978953           0.988127   \n",
       "19           0.978953           0.981112           0.987588   \n",
       "20           0.980572           0.983810           0.987048   \n",
       "21           0.980032           0.981112           0.985429   \n",
       "22           0.980572           0.981112           0.987048   \n",
       "23           0.980572           0.981112           0.988127   \n",
       "\n",
       "    split4_test_score  mean_test_score  std_test_score  rank_test_score  \n",
       "0            0.975702         0.978629        0.004106               24  \n",
       "1            0.981102         0.980356        0.003870               21  \n",
       "2            0.981102         0.980140        0.004015               22  \n",
       "3            0.982721         0.981975        0.002403               19  \n",
       "4            0.986501         0.983162        0.003114               16  \n",
       "5            0.984881         0.983378        0.003153               13  \n",
       "6            0.987041         0.983486        0.003422               12  \n",
       "7            0.988121         0.984458        0.003402                3  \n",
       "8            0.986501         0.984350        0.003014                7  \n",
       "9            0.987581         0.983702        0.003296               11  \n",
       "10           0.988121         0.984458        0.003225                3  \n",
       "11           0.988121         0.984566        0.002985                1  \n",
       "12           0.982721         0.979924        0.003076               23  \n",
       "13           0.984341         0.982731        0.002994               18  \n",
       "14           0.983801         0.981867        0.003138               20  \n",
       "15           0.986501         0.983270        0.002914               15  \n",
       "16           0.987041         0.984026        0.003283                9  \n",
       "17           0.985961         0.984458        0.002759                3  \n",
       "18           0.987581         0.983378        0.003881               13  \n",
       "19           0.988121         0.983918        0.003568               10  \n",
       "20           0.987581         0.984566        0.002543                1  \n",
       "21           0.985961         0.983162        0.002323               16  \n",
       "22           0.988121         0.984242        0.003039                8  \n",
       "23           0.987581         0.984458        0.003153                3  "
      ]
     },
     "execution_count": 67,
     "metadata": {},
     "output_type": "execute_result"
    }
   ],
   "source": [
    "# Results in a DataFrame\n",
    "cv_res = grid_search.cv_results_\n",
    "df = pd.DataFrame(cv_res)\n",
    "df"
   ]
  },
  {
   "cell_type": "code",
   "execution_count": 68,
   "metadata": {
    "collapsed": true
   },
   "outputs": [
    {
     "data": {
      "text/html": [
       "<div>\n",
       "<style scoped>\n",
       "    .dataframe tbody tr th:only-of-type {\n",
       "        vertical-align: middle;\n",
       "    }\n",
       "\n",
       "    .dataframe tbody tr th {\n",
       "        vertical-align: top;\n",
       "    }\n",
       "\n",
       "    .dataframe thead th {\n",
       "        text-align: right;\n",
       "    }\n",
       "</style>\n",
       "<table border=\"1\" class=\"dataframe\">\n",
       "  <thead>\n",
       "    <tr style=\"text-align: right;\">\n",
       "      <th></th>\n",
       "      <th>params</th>\n",
       "      <th>mean_test_score</th>\n",
       "    </tr>\n",
       "  </thead>\n",
       "  <tbody>\n",
       "    <tr>\n",
       "      <td>0</td>\n",
       "      <td>{'max_features': 2, 'n_estimators': 10}</td>\n",
       "      <td>0.978629</td>\n",
       "    </tr>\n",
       "    <tr>\n",
       "      <td>1</td>\n",
       "      <td>{'max_features': 2, 'n_estimators': 30}</td>\n",
       "      <td>0.980356</td>\n",
       "    </tr>\n",
       "    <tr>\n",
       "      <td>2</td>\n",
       "      <td>{'max_features': 2, 'n_estimators': 50}</td>\n",
       "      <td>0.980140</td>\n",
       "    </tr>\n",
       "    <tr>\n",
       "      <td>3</td>\n",
       "      <td>{'max_features': 4, 'n_estimators': 10}</td>\n",
       "      <td>0.981975</td>\n",
       "    </tr>\n",
       "    <tr>\n",
       "      <td>4</td>\n",
       "      <td>{'max_features': 4, 'n_estimators': 30}</td>\n",
       "      <td>0.983162</td>\n",
       "    </tr>\n",
       "    <tr>\n",
       "      <td>5</td>\n",
       "      <td>{'max_features': 4, 'n_estimators': 50}</td>\n",
       "      <td>0.983378</td>\n",
       "    </tr>\n",
       "    <tr>\n",
       "      <td>6</td>\n",
       "      <td>{'max_features': 7, 'n_estimators': 10}</td>\n",
       "      <td>0.983486</td>\n",
       "    </tr>\n",
       "    <tr>\n",
       "      <td>7</td>\n",
       "      <td>{'max_features': 7, 'n_estimators': 30}</td>\n",
       "      <td>0.984458</td>\n",
       "    </tr>\n",
       "    <tr>\n",
       "      <td>8</td>\n",
       "      <td>{'max_features': 7, 'n_estimators': 50}</td>\n",
       "      <td>0.984350</td>\n",
       "    </tr>\n",
       "    <tr>\n",
       "      <td>9</td>\n",
       "      <td>{'max_features': 8, 'n_estimators': 10}</td>\n",
       "      <td>0.983702</td>\n",
       "    </tr>\n",
       "    <tr>\n",
       "      <td>10</td>\n",
       "      <td>{'max_features': 8, 'n_estimators': 30}</td>\n",
       "      <td>0.984458</td>\n",
       "    </tr>\n",
       "    <tr>\n",
       "      <td>11</td>\n",
       "      <td>{'max_features': 8, 'n_estimators': 50}</td>\n",
       "      <td>0.984566</td>\n",
       "    </tr>\n",
       "    <tr>\n",
       "      <td>12</td>\n",
       "      <td>{'bootstrap': False, 'max_features': 3, 'n_est...</td>\n",
       "      <td>0.979924</td>\n",
       "    </tr>\n",
       "    <tr>\n",
       "      <td>13</td>\n",
       "      <td>{'bootstrap': False, 'max_features': 3, 'n_est...</td>\n",
       "      <td>0.982731</td>\n",
       "    </tr>\n",
       "    <tr>\n",
       "      <td>14</td>\n",
       "      <td>{'bootstrap': False, 'max_features': 3, 'n_est...</td>\n",
       "      <td>0.981867</td>\n",
       "    </tr>\n",
       "    <tr>\n",
       "      <td>15</td>\n",
       "      <td>{'bootstrap': False, 'max_features': 5, 'n_est...</td>\n",
       "      <td>0.983270</td>\n",
       "    </tr>\n",
       "    <tr>\n",
       "      <td>16</td>\n",
       "      <td>{'bootstrap': False, 'max_features': 5, 'n_est...</td>\n",
       "      <td>0.984026</td>\n",
       "    </tr>\n",
       "    <tr>\n",
       "      <td>17</td>\n",
       "      <td>{'bootstrap': False, 'max_features': 5, 'n_est...</td>\n",
       "      <td>0.984458</td>\n",
       "    </tr>\n",
       "    <tr>\n",
       "      <td>18</td>\n",
       "      <td>{'bootstrap': False, 'max_features': 7, 'n_est...</td>\n",
       "      <td>0.983378</td>\n",
       "    </tr>\n",
       "    <tr>\n",
       "      <td>19</td>\n",
       "      <td>{'bootstrap': False, 'max_features': 7, 'n_est...</td>\n",
       "      <td>0.983918</td>\n",
       "    </tr>\n",
       "    <tr>\n",
       "      <td>20</td>\n",
       "      <td>{'bootstrap': False, 'max_features': 7, 'n_est...</td>\n",
       "      <td>0.984566</td>\n",
       "    </tr>\n",
       "    <tr>\n",
       "      <td>21</td>\n",
       "      <td>{'bootstrap': False, 'max_features': 8, 'n_est...</td>\n",
       "      <td>0.983162</td>\n",
       "    </tr>\n",
       "    <tr>\n",
       "      <td>22</td>\n",
       "      <td>{'bootstrap': False, 'max_features': 8, 'n_est...</td>\n",
       "      <td>0.984242</td>\n",
       "    </tr>\n",
       "    <tr>\n",
       "      <td>23</td>\n",
       "      <td>{'bootstrap': False, 'max_features': 8, 'n_est...</td>\n",
       "      <td>0.984458</td>\n",
       "    </tr>\n",
       "  </tbody>\n",
       "</table>\n",
       "</div>"
      ],
      "text/plain": [
       "                                               params  mean_test_score\n",
       "0             {'max_features': 2, 'n_estimators': 10}         0.978629\n",
       "1             {'max_features': 2, 'n_estimators': 30}         0.980356\n",
       "2             {'max_features': 2, 'n_estimators': 50}         0.980140\n",
       "3             {'max_features': 4, 'n_estimators': 10}         0.981975\n",
       "4             {'max_features': 4, 'n_estimators': 30}         0.983162\n",
       "5             {'max_features': 4, 'n_estimators': 50}         0.983378\n",
       "6             {'max_features': 7, 'n_estimators': 10}         0.983486\n",
       "7             {'max_features': 7, 'n_estimators': 30}         0.984458\n",
       "8             {'max_features': 7, 'n_estimators': 50}         0.984350\n",
       "9             {'max_features': 8, 'n_estimators': 10}         0.983702\n",
       "10            {'max_features': 8, 'n_estimators': 30}         0.984458\n",
       "11            {'max_features': 8, 'n_estimators': 50}         0.984566\n",
       "12  {'bootstrap': False, 'max_features': 3, 'n_est...         0.979924\n",
       "13  {'bootstrap': False, 'max_features': 3, 'n_est...         0.982731\n",
       "14  {'bootstrap': False, 'max_features': 3, 'n_est...         0.981867\n",
       "15  {'bootstrap': False, 'max_features': 5, 'n_est...         0.983270\n",
       "16  {'bootstrap': False, 'max_features': 5, 'n_est...         0.984026\n",
       "17  {'bootstrap': False, 'max_features': 5, 'n_est...         0.984458\n",
       "18  {'bootstrap': False, 'max_features': 7, 'n_est...         0.983378\n",
       "19  {'bootstrap': False, 'max_features': 7, 'n_est...         0.983918\n",
       "20  {'bootstrap': False, 'max_features': 7, 'n_est...         0.984566\n",
       "21  {'bootstrap': False, 'max_features': 8, 'n_est...         0.983162\n",
       "22  {'bootstrap': False, 'max_features': 8, 'n_est...         0.984242\n",
       "23  {'bootstrap': False, 'max_features': 8, 'n_est...         0.984458"
      ]
     },
     "execution_count": 68,
     "metadata": {},
     "output_type": "execute_result"
    }
   ],
   "source": [
    "# Lets look at parameters and mean_test_score\n",
    "df[['params', 'mean_test_score']]"
   ]
  },
  {
   "cell_type": "markdown",
   "metadata": {},
   "source": [
    "<h2 style='color:black' align='left'>Analyze the Best Models and Their Errors</h2>"
   ]
  },
  {
   "cell_type": "markdown",
   "metadata": {},
   "source": [
    "**We are only dealing with random forest classifier.**"
   ]
  },
  {
   "cell_type": "markdown",
   "metadata": {},
   "source": [
    "<h2 style='color:black' align='left'>Evaluate Your System on the Test Set</h2>"
   ]
  },
  {
   "cell_type": "code",
   "execution_count": 77,
   "metadata": {},
   "outputs": [
    {
     "data": {
      "text/html": [
       "<div>\n",
       "<style scoped>\n",
       "    .dataframe tbody tr th:only-of-type {\n",
       "        vertical-align: middle;\n",
       "    }\n",
       "\n",
       "    .dataframe tbody tr th {\n",
       "        vertical-align: top;\n",
       "    }\n",
       "\n",
       "    .dataframe thead th {\n",
       "        text-align: right;\n",
       "    }\n",
       "</style>\n",
       "<table border=\"1\" class=\"dataframe\">\n",
       "  <thead>\n",
       "    <tr style=\"text-align: right;\">\n",
       "      <th></th>\n",
       "      <th>0</th>\n",
       "      <th>1</th>\n",
       "      <th>2</th>\n",
       "      <th>3</th>\n",
       "      <th>4</th>\n",
       "      <th>5</th>\n",
       "      <th>6</th>\n",
       "      <th>7</th>\n",
       "      <th>8</th>\n",
       "      <th>9</th>\n",
       "      <th>10</th>\n",
       "      <th>11</th>\n",
       "      <th>12</th>\n",
       "      <th>13</th>\n",
       "      <th>14</th>\n",
       "      <th>15</th>\n",
       "      <th>16</th>\n",
       "    </tr>\n",
       "  </thead>\n",
       "  <tbody>\n",
       "    <tr>\n",
       "      <td>0</td>\n",
       "      <td>0.089899</td>\n",
       "      <td>1.448704</td>\n",
       "      <td>1.029788</td>\n",
       "      <td>0.528392</td>\n",
       "      <td>-1.247888</td>\n",
       "      <td>2.366221</td>\n",
       "      <td>1.0</td>\n",
       "      <td>0.0</td>\n",
       "      <td>0.0</td>\n",
       "      <td>0.0</td>\n",
       "      <td>0.0</td>\n",
       "      <td>0.0</td>\n",
       "      <td>1.0</td>\n",
       "      <td>0.0</td>\n",
       "      <td>0.0</td>\n",
       "      <td>0.0</td>\n",
       "      <td>0.0</td>\n",
       "    </tr>\n",
       "    <tr>\n",
       "      <td>1</td>\n",
       "      <td>1.044309</td>\n",
       "      <td>0.499238</td>\n",
       "      <td>-0.669711</td>\n",
       "      <td>-0.701919</td>\n",
       "      <td>-1.247888</td>\n",
       "      <td>-0.422615</td>\n",
       "      <td>0.0</td>\n",
       "      <td>1.0</td>\n",
       "      <td>0.0</td>\n",
       "      <td>0.0</td>\n",
       "      <td>0.0</td>\n",
       "      <td>0.0</td>\n",
       "      <td>0.0</td>\n",
       "      <td>0.0</td>\n",
       "      <td>0.0</td>\n",
       "      <td>0.0</td>\n",
       "      <td>0.0</td>\n",
       "    </tr>\n",
       "    <tr>\n",
       "      <td>2</td>\n",
       "      <td>0.255883</td>\n",
       "      <td>1.567388</td>\n",
       "      <td>-0.669711</td>\n",
       "      <td>0.282330</td>\n",
       "      <td>-1.247888</td>\n",
       "      <td>-0.422615</td>\n",
       "      <td>0.0</td>\n",
       "      <td>0.0</td>\n",
       "      <td>0.0</td>\n",
       "      <td>0.0</td>\n",
       "      <td>0.0</td>\n",
       "      <td>0.0</td>\n",
       "      <td>0.0</td>\n",
       "      <td>0.0</td>\n",
       "      <td>1.0</td>\n",
       "      <td>0.0</td>\n",
       "      <td>0.0</td>\n",
       "    </tr>\n",
       "    <tr>\n",
       "      <td>3</td>\n",
       "      <td>-0.906008</td>\n",
       "      <td>-1.459036</td>\n",
       "      <td>-1.519460</td>\n",
       "      <td>-0.947981</td>\n",
       "      <td>-0.135760</td>\n",
       "      <td>-0.422615</td>\n",
       "      <td>0.0</td>\n",
       "      <td>0.0</td>\n",
       "      <td>0.0</td>\n",
       "      <td>0.0</td>\n",
       "      <td>0.0</td>\n",
       "      <td>0.0</td>\n",
       "      <td>0.0</td>\n",
       "      <td>0.0</td>\n",
       "      <td>1.0</td>\n",
       "      <td>0.0</td>\n",
       "      <td>0.0</td>\n",
       "    </tr>\n",
       "    <tr>\n",
       "      <td>4</td>\n",
       "      <td>1.002813</td>\n",
       "      <td>0.261872</td>\n",
       "      <td>1.029788</td>\n",
       "      <td>1.102537</td>\n",
       "      <td>-1.247888</td>\n",
       "      <td>2.366221</td>\n",
       "      <td>0.0</td>\n",
       "      <td>0.0</td>\n",
       "      <td>0.0</td>\n",
       "      <td>0.0</td>\n",
       "      <td>1.0</td>\n",
       "      <td>0.0</td>\n",
       "      <td>0.0</td>\n",
       "      <td>0.0</td>\n",
       "      <td>0.0</td>\n",
       "      <td>0.0</td>\n",
       "      <td>0.0</td>\n",
       "    </tr>\n",
       "  </tbody>\n",
       "</table>\n",
       "</div>"
      ],
      "text/plain": [
       "          0         1         2         3         4         5    6    7    8  \\\n",
       "0  0.089899  1.448704  1.029788  0.528392 -1.247888  2.366221  1.0  0.0  0.0   \n",
       "1  1.044309  0.499238 -0.669711 -0.701919 -1.247888 -0.422615  0.0  1.0  0.0   \n",
       "2  0.255883  1.567388 -0.669711  0.282330 -1.247888 -0.422615  0.0  0.0  0.0   \n",
       "3 -0.906008 -1.459036 -1.519460 -0.947981 -0.135760 -0.422615  0.0  0.0  0.0   \n",
       "4  1.002813  0.261872  1.029788  1.102537 -1.247888  2.366221  0.0  0.0  0.0   \n",
       "\n",
       "     9   10   11   12   13   14   15   16  \n",
       "0  0.0  0.0  0.0  1.0  0.0  0.0  0.0  0.0  \n",
       "1  0.0  0.0  0.0  0.0  0.0  0.0  0.0  0.0  \n",
       "2  0.0  0.0  0.0  0.0  0.0  1.0  0.0  0.0  \n",
       "3  0.0  0.0  0.0  0.0  0.0  1.0  0.0  0.0  \n",
       "4  0.0  1.0  0.0  0.0  0.0  0.0  0.0  0.0  "
      ]
     },
     "execution_count": 77,
     "metadata": {},
     "output_type": "execute_result"
    }
   ],
   "source": [
    "# Make sure the test set has the necessary transforms\n",
    "pd.DataFrame(X_test_final).head()"
   ]
  },
  {
   "cell_type": "code",
   "execution_count": 70,
   "metadata": {
    "scrolled": true
   },
   "outputs": [
    {
     "data": {
      "text/plain": [
       "array([0, 0, 0, ..., 0, 0, 1])"
      ]
     },
     "execution_count": 70,
     "metadata": {},
     "output_type": "execute_result"
    }
   ],
   "source": [
    "y_test_enc"
   ]
  },
  {
   "cell_type": "code",
   "execution_count": 71,
   "metadata": {},
   "outputs": [
    {
     "name": "stdout",
     "output_type": "stream",
     "text": [
      "Accuracy: 99.98\n"
     ]
    }
   ],
   "source": [
    "final_model = grid_search.best_estimator_\n",
    "final_predictions = final_model.predict(X_test_final)\n",
    "final_accuracy = accuracy_score(y_test_enc, final_predictions)\n",
    "print('Accuracy: %.2f' % (accuracy * 100))"
   ]
  },
  {
   "cell_type": "code",
   "execution_count": null,
   "metadata": {},
   "outputs": [],
   "source": []
  }
 ],
 "metadata": {
  "kernelspec": {
   "display_name": "Python 3",
   "language": "python",
   "name": "python3"
  },
  "language_info": {
   "codemirror_mode": {
    "name": "ipython",
    "version": 3
   },
   "file_extension": ".py",
   "mimetype": "text/x-python",
   "name": "python",
   "nbconvert_exporter": "python",
   "pygments_lexer": "ipython3",
   "version": "3.8.5"
  }
 },
 "nbformat": 4,
 "nbformat_minor": 2
}
